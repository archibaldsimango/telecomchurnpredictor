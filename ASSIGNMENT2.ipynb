{
  "nbformat": 4,
  "nbformat_minor": 0,
  "metadata": {
    "kernelspec": {
      "display_name": "Python 3",
      "language": "python",
      "name": "python3"
    },
    "language_info": {
      "codemirror_mode": {
        "name": "ipython",
        "version": 3
      },
      "file_extension": ".py",
      "mimetype": "text/x-python",
      "name": "python",
      "nbconvert_exporter": "python",
      "pygments_lexer": "ipython3",
      "version": "3.7.4"
    },
    "colab": {
      "name": "ASSIGNMENT2.ipynb",
      "provenance": [],
      "collapsed_sections": []
    }
  },
  "cells": [
    {
      "cell_type": "code",
      "metadata": {
        "id": "8OEG-py52u0c"
      },
      "source": [
        "import pandas as pd\n",
        "import numpy as np\n",
        "import matplotlib.pyplot as plt\n",
        "import seaborn as sns\n",
        "from sklearn import model_selection, metrics  #to include metrics for evaluation # this used to be cross_validation\n",
        "from sklearn.preprocessing import StandardScaler\n",
        "from sklearn.model_selection import GridSearchCV\n",
        "from sklearn.model_selection import train_test_split\n",
        "import matplotlib.pylab as plt\n",
        "%matplotlib inline"
      ],
      "execution_count": null,
      "outputs": []
    },
    {
      "cell_type": "code",
      "metadata": {
        "colab": {
          "base_uri": "https://localhost:8080/"
        },
        "id": "eORNmMQ5209_",
        "outputId": "046b5c72-e386-4702-9aae-895182437536"
      },
      "source": [
        "from google.colab import drive\n",
        "drive.mount('/content/drive')"
      ],
      "execution_count": null,
      "outputs": [
        {
          "output_type": "stream",
          "text": [
            "Drive already mounted at /content/drive; to attempt to forcibly remount, call drive.mount(\"/content/drive\", force_remount=True).\n"
          ],
          "name": "stdout"
        }
      ]
    },
    {
      "cell_type": "code",
      "metadata": {
        "id": "1FoG-SYT2u0g"
      },
      "source": [
        "dataset = pd.read_csv('/content/drive/My Drive/AI Assignment2/datasets_13996_18858_WA_Fn-UseC_-Telco-Customer-Churn (1).csv')"
      ],
      "execution_count": null,
      "outputs": []
    },
    {
      "cell_type": "code",
      "metadata": {
        "colab": {
          "base_uri": "https://localhost:8080/",
          "height": 311
        },
        "id": "UMWMXdmZ2u0h",
        "outputId": "b69d13e7-5029-4d19-8cbb-2bfad5113d61"
      },
      "source": [
        "dataset.head()"
      ],
      "execution_count": null,
      "outputs": [
        {
          "output_type": "execute_result",
          "data": {
            "text/html": [
              "<div>\n",
              "<style scoped>\n",
              "    .dataframe tbody tr th:only-of-type {\n",
              "        vertical-align: middle;\n",
              "    }\n",
              "\n",
              "    .dataframe tbody tr th {\n",
              "        vertical-align: top;\n",
              "    }\n",
              "\n",
              "    .dataframe thead th {\n",
              "        text-align: right;\n",
              "    }\n",
              "</style>\n",
              "<table border=\"1\" class=\"dataframe\">\n",
              "  <thead>\n",
              "    <tr style=\"text-align: right;\">\n",
              "      <th></th>\n",
              "      <th>customerID</th>\n",
              "      <th>gender</th>\n",
              "      <th>SeniorCitizen</th>\n",
              "      <th>Partner</th>\n",
              "      <th>Dependents</th>\n",
              "      <th>tenure</th>\n",
              "      <th>PhoneService</th>\n",
              "      <th>MultipleLines</th>\n",
              "      <th>InternetService</th>\n",
              "      <th>OnlineSecurity</th>\n",
              "      <th>OnlineBackup</th>\n",
              "      <th>DeviceProtection</th>\n",
              "      <th>TechSupport</th>\n",
              "      <th>StreamingTV</th>\n",
              "      <th>StreamingMovies</th>\n",
              "      <th>Contract</th>\n",
              "      <th>PaperlessBilling</th>\n",
              "      <th>PaymentMethod</th>\n",
              "      <th>MonthlyCharges</th>\n",
              "      <th>TotalCharges</th>\n",
              "      <th>Churn</th>\n",
              "    </tr>\n",
              "  </thead>\n",
              "  <tbody>\n",
              "    <tr>\n",
              "      <th>0</th>\n",
              "      <td>7590-VHVEG</td>\n",
              "      <td>Female</td>\n",
              "      <td>0</td>\n",
              "      <td>Yes</td>\n",
              "      <td>No</td>\n",
              "      <td>1</td>\n",
              "      <td>No</td>\n",
              "      <td>No phone service</td>\n",
              "      <td>DSL</td>\n",
              "      <td>No</td>\n",
              "      <td>Yes</td>\n",
              "      <td>No</td>\n",
              "      <td>No</td>\n",
              "      <td>No</td>\n",
              "      <td>No</td>\n",
              "      <td>Month-to-month</td>\n",
              "      <td>Yes</td>\n",
              "      <td>Electronic check</td>\n",
              "      <td>29.85</td>\n",
              "      <td>29.85</td>\n",
              "      <td>No</td>\n",
              "    </tr>\n",
              "    <tr>\n",
              "      <th>1</th>\n",
              "      <td>5575-GNVDE</td>\n",
              "      <td>Male</td>\n",
              "      <td>0</td>\n",
              "      <td>No</td>\n",
              "      <td>No</td>\n",
              "      <td>34</td>\n",
              "      <td>Yes</td>\n",
              "      <td>No</td>\n",
              "      <td>DSL</td>\n",
              "      <td>Yes</td>\n",
              "      <td>No</td>\n",
              "      <td>Yes</td>\n",
              "      <td>No</td>\n",
              "      <td>No</td>\n",
              "      <td>No</td>\n",
              "      <td>One year</td>\n",
              "      <td>No</td>\n",
              "      <td>Mailed check</td>\n",
              "      <td>56.95</td>\n",
              "      <td>1889.5</td>\n",
              "      <td>No</td>\n",
              "    </tr>\n",
              "    <tr>\n",
              "      <th>2</th>\n",
              "      <td>3668-QPYBK</td>\n",
              "      <td>Male</td>\n",
              "      <td>0</td>\n",
              "      <td>No</td>\n",
              "      <td>No</td>\n",
              "      <td>2</td>\n",
              "      <td>Yes</td>\n",
              "      <td>No</td>\n",
              "      <td>DSL</td>\n",
              "      <td>Yes</td>\n",
              "      <td>Yes</td>\n",
              "      <td>No</td>\n",
              "      <td>No</td>\n",
              "      <td>No</td>\n",
              "      <td>No</td>\n",
              "      <td>Month-to-month</td>\n",
              "      <td>Yes</td>\n",
              "      <td>Mailed check</td>\n",
              "      <td>53.85</td>\n",
              "      <td>108.15</td>\n",
              "      <td>Yes</td>\n",
              "    </tr>\n",
              "    <tr>\n",
              "      <th>3</th>\n",
              "      <td>7795-CFOCW</td>\n",
              "      <td>Male</td>\n",
              "      <td>0</td>\n",
              "      <td>No</td>\n",
              "      <td>No</td>\n",
              "      <td>45</td>\n",
              "      <td>No</td>\n",
              "      <td>No phone service</td>\n",
              "      <td>DSL</td>\n",
              "      <td>Yes</td>\n",
              "      <td>No</td>\n",
              "      <td>Yes</td>\n",
              "      <td>Yes</td>\n",
              "      <td>No</td>\n",
              "      <td>No</td>\n",
              "      <td>One year</td>\n",
              "      <td>No</td>\n",
              "      <td>Bank transfer (automatic)</td>\n",
              "      <td>42.30</td>\n",
              "      <td>1840.75</td>\n",
              "      <td>No</td>\n",
              "    </tr>\n",
              "    <tr>\n",
              "      <th>4</th>\n",
              "      <td>9237-HQITU</td>\n",
              "      <td>Female</td>\n",
              "      <td>0</td>\n",
              "      <td>No</td>\n",
              "      <td>No</td>\n",
              "      <td>2</td>\n",
              "      <td>Yes</td>\n",
              "      <td>No</td>\n",
              "      <td>Fiber optic</td>\n",
              "      <td>No</td>\n",
              "      <td>No</td>\n",
              "      <td>No</td>\n",
              "      <td>No</td>\n",
              "      <td>No</td>\n",
              "      <td>No</td>\n",
              "      <td>Month-to-month</td>\n",
              "      <td>Yes</td>\n",
              "      <td>Electronic check</td>\n",
              "      <td>70.70</td>\n",
              "      <td>151.65</td>\n",
              "      <td>Yes</td>\n",
              "    </tr>\n",
              "  </tbody>\n",
              "</table>\n",
              "</div>"
            ],
            "text/plain": [
              "   customerID  gender  SeniorCitizen  ... MonthlyCharges TotalCharges  Churn\n",
              "0  7590-VHVEG  Female              0  ...          29.85        29.85     No\n",
              "1  5575-GNVDE    Male              0  ...          56.95       1889.5     No\n",
              "2  3668-QPYBK    Male              0  ...          53.85       108.15    Yes\n",
              "3  7795-CFOCW    Male              0  ...          42.30      1840.75     No\n",
              "4  9237-HQITU  Female              0  ...          70.70       151.65    Yes\n",
              "\n",
              "[5 rows x 21 columns]"
            ]
          },
          "metadata": {
            "tags": []
          },
          "execution_count": 63
        }
      ]
    },
    {
      "cell_type": "code",
      "metadata": {
        "colab": {
          "base_uri": "https://localhost:8080/"
        },
        "id": "YVU5mJsn2u0i",
        "outputId": "ec3fe6cb-c5cf-4109-f386-d79809d26cb7"
      },
      "source": [
        "dataset.isna().sum()"
      ],
      "execution_count": null,
      "outputs": [
        {
          "output_type": "execute_result",
          "data": {
            "text/plain": [
              "customerID          0\n",
              "gender              0\n",
              "SeniorCitizen       0\n",
              "Partner             0\n",
              "Dependents          0\n",
              "tenure              0\n",
              "PhoneService        0\n",
              "MultipleLines       0\n",
              "InternetService     0\n",
              "OnlineSecurity      0\n",
              "OnlineBackup        0\n",
              "DeviceProtection    0\n",
              "TechSupport         0\n",
              "StreamingTV         0\n",
              "StreamingMovies     0\n",
              "Contract            0\n",
              "PaperlessBilling    0\n",
              "PaymentMethod       0\n",
              "MonthlyCharges      0\n",
              "TotalCharges        0\n",
              "Churn               0\n",
              "dtype: int64"
            ]
          },
          "metadata": {
            "tags": []
          },
          "execution_count": 64
        }
      ]
    },
    {
      "cell_type": "code",
      "metadata": {
        "colab": {
          "base_uri": "https://localhost:8080/"
        },
        "id": "j4Lhsf8c2u0j",
        "outputId": "bc2a5cc9-1c4c-4185-86f8-850455f28cec"
      },
      "source": [
        "dataset.columns.values"
      ],
      "execution_count": null,
      "outputs": [
        {
          "output_type": "execute_result",
          "data": {
            "text/plain": [
              "array(['customerID', 'gender', 'SeniorCitizen', 'Partner', 'Dependents',\n",
              "       'tenure', 'PhoneService', 'MultipleLines', 'InternetService',\n",
              "       'OnlineSecurity', 'OnlineBackup', 'DeviceProtection',\n",
              "       'TechSupport', 'StreamingTV', 'StreamingMovies', 'Contract',\n",
              "       'PaperlessBilling', 'PaymentMethod', 'MonthlyCharges',\n",
              "       'TotalCharges', 'Churn'], dtype=object)"
            ]
          },
          "metadata": {
            "tags": []
          },
          "execution_count": 65
        }
      ]
    },
    {
      "cell_type": "code",
      "metadata": {
        "colab": {
          "base_uri": "https://localhost:8080/"
        },
        "id": "UwuWkNPB2u0j",
        "outputId": "aee61123-da38-432a-c5e0-1a9602161b47"
      },
      "source": [
        "dataset.info()"
      ],
      "execution_count": null,
      "outputs": [
        {
          "output_type": "stream",
          "text": [
            "<class 'pandas.core.frame.DataFrame'>\n",
            "RangeIndex: 7043 entries, 0 to 7042\n",
            "Data columns (total 21 columns):\n",
            " #   Column            Non-Null Count  Dtype  \n",
            "---  ------            --------------  -----  \n",
            " 0   customerID        7043 non-null   object \n",
            " 1   gender            7043 non-null   object \n",
            " 2   SeniorCitizen     7043 non-null   int64  \n",
            " 3   Partner           7043 non-null   object \n",
            " 4   Dependents        7043 non-null   object \n",
            " 5   tenure            7043 non-null   int64  \n",
            " 6   PhoneService      7043 non-null   object \n",
            " 7   MultipleLines     7043 non-null   object \n",
            " 8   InternetService   7043 non-null   object \n",
            " 9   OnlineSecurity    7043 non-null   object \n",
            " 10  OnlineBackup      7043 non-null   object \n",
            " 11  DeviceProtection  7043 non-null   object \n",
            " 12  TechSupport       7043 non-null   object \n",
            " 13  StreamingTV       7043 non-null   object \n",
            " 14  StreamingMovies   7043 non-null   object \n",
            " 15  Contract          7043 non-null   object \n",
            " 16  PaperlessBilling  7043 non-null   object \n",
            " 17  PaymentMethod     7043 non-null   object \n",
            " 18  MonthlyCharges    7043 non-null   float64\n",
            " 19  TotalCharges      7043 non-null   object \n",
            " 20  Churn             7043 non-null   object \n",
            "dtypes: float64(1), int64(2), object(18)\n",
            "memory usage: 1.1+ MB\n"
          ],
          "name": "stdout"
        }
      ]
    },
    {
      "cell_type": "code",
      "metadata": {
        "colab": {
          "base_uri": "https://localhost:8080/",
          "height": 601
        },
        "id": "QZS6-kW-2u0j",
        "outputId": "69436fa8-b1ca-44ee-ffb7-9f9585398ccc"
      },
      "source": [
        "# Analyze if there is non-numeric data in the 'TotalCharges' column since it's showing as an object instead of float64.\n",
        "dataset['TotalCharges'] = pd.to_numeric(dataset['TotalCharges'], errors = 'coerce')\n",
        "dataset.loc[dataset['TotalCharges'].isna()==True] #Returning columns with NaN values"
      ],
      "execution_count": null,
      "outputs": [
        {
          "output_type": "execute_result",
          "data": {
            "text/html": [
              "<div>\n",
              "<style scoped>\n",
              "    .dataframe tbody tr th:only-of-type {\n",
              "        vertical-align: middle;\n",
              "    }\n",
              "\n",
              "    .dataframe tbody tr th {\n",
              "        vertical-align: top;\n",
              "    }\n",
              "\n",
              "    .dataframe thead th {\n",
              "        text-align: right;\n",
              "    }\n",
              "</style>\n",
              "<table border=\"1\" class=\"dataframe\">\n",
              "  <thead>\n",
              "    <tr style=\"text-align: right;\">\n",
              "      <th></th>\n",
              "      <th>customerID</th>\n",
              "      <th>gender</th>\n",
              "      <th>SeniorCitizen</th>\n",
              "      <th>Partner</th>\n",
              "      <th>Dependents</th>\n",
              "      <th>tenure</th>\n",
              "      <th>PhoneService</th>\n",
              "      <th>MultipleLines</th>\n",
              "      <th>InternetService</th>\n",
              "      <th>OnlineSecurity</th>\n",
              "      <th>OnlineBackup</th>\n",
              "      <th>DeviceProtection</th>\n",
              "      <th>TechSupport</th>\n",
              "      <th>StreamingTV</th>\n",
              "      <th>StreamingMovies</th>\n",
              "      <th>Contract</th>\n",
              "      <th>PaperlessBilling</th>\n",
              "      <th>PaymentMethod</th>\n",
              "      <th>MonthlyCharges</th>\n",
              "      <th>TotalCharges</th>\n",
              "      <th>Churn</th>\n",
              "    </tr>\n",
              "  </thead>\n",
              "  <tbody>\n",
              "    <tr>\n",
              "      <th>488</th>\n",
              "      <td>4472-LVYGI</td>\n",
              "      <td>Female</td>\n",
              "      <td>0</td>\n",
              "      <td>Yes</td>\n",
              "      <td>Yes</td>\n",
              "      <td>0</td>\n",
              "      <td>No</td>\n",
              "      <td>No phone service</td>\n",
              "      <td>DSL</td>\n",
              "      <td>Yes</td>\n",
              "      <td>No</td>\n",
              "      <td>Yes</td>\n",
              "      <td>Yes</td>\n",
              "      <td>Yes</td>\n",
              "      <td>No</td>\n",
              "      <td>Two year</td>\n",
              "      <td>Yes</td>\n",
              "      <td>Bank transfer (automatic)</td>\n",
              "      <td>52.55</td>\n",
              "      <td>NaN</td>\n",
              "      <td>No</td>\n",
              "    </tr>\n",
              "    <tr>\n",
              "      <th>753</th>\n",
              "      <td>3115-CZMZD</td>\n",
              "      <td>Male</td>\n",
              "      <td>0</td>\n",
              "      <td>No</td>\n",
              "      <td>Yes</td>\n",
              "      <td>0</td>\n",
              "      <td>Yes</td>\n",
              "      <td>No</td>\n",
              "      <td>No</td>\n",
              "      <td>No internet service</td>\n",
              "      <td>No internet service</td>\n",
              "      <td>No internet service</td>\n",
              "      <td>No internet service</td>\n",
              "      <td>No internet service</td>\n",
              "      <td>No internet service</td>\n",
              "      <td>Two year</td>\n",
              "      <td>No</td>\n",
              "      <td>Mailed check</td>\n",
              "      <td>20.25</td>\n",
              "      <td>NaN</td>\n",
              "      <td>No</td>\n",
              "    </tr>\n",
              "    <tr>\n",
              "      <th>936</th>\n",
              "      <td>5709-LVOEQ</td>\n",
              "      <td>Female</td>\n",
              "      <td>0</td>\n",
              "      <td>Yes</td>\n",
              "      <td>Yes</td>\n",
              "      <td>0</td>\n",
              "      <td>Yes</td>\n",
              "      <td>No</td>\n",
              "      <td>DSL</td>\n",
              "      <td>Yes</td>\n",
              "      <td>Yes</td>\n",
              "      <td>Yes</td>\n",
              "      <td>No</td>\n",
              "      <td>Yes</td>\n",
              "      <td>Yes</td>\n",
              "      <td>Two year</td>\n",
              "      <td>No</td>\n",
              "      <td>Mailed check</td>\n",
              "      <td>80.85</td>\n",
              "      <td>NaN</td>\n",
              "      <td>No</td>\n",
              "    </tr>\n",
              "    <tr>\n",
              "      <th>1082</th>\n",
              "      <td>4367-NUYAO</td>\n",
              "      <td>Male</td>\n",
              "      <td>0</td>\n",
              "      <td>Yes</td>\n",
              "      <td>Yes</td>\n",
              "      <td>0</td>\n",
              "      <td>Yes</td>\n",
              "      <td>Yes</td>\n",
              "      <td>No</td>\n",
              "      <td>No internet service</td>\n",
              "      <td>No internet service</td>\n",
              "      <td>No internet service</td>\n",
              "      <td>No internet service</td>\n",
              "      <td>No internet service</td>\n",
              "      <td>No internet service</td>\n",
              "      <td>Two year</td>\n",
              "      <td>No</td>\n",
              "      <td>Mailed check</td>\n",
              "      <td>25.75</td>\n",
              "      <td>NaN</td>\n",
              "      <td>No</td>\n",
              "    </tr>\n",
              "    <tr>\n",
              "      <th>1340</th>\n",
              "      <td>1371-DWPAZ</td>\n",
              "      <td>Female</td>\n",
              "      <td>0</td>\n",
              "      <td>Yes</td>\n",
              "      <td>Yes</td>\n",
              "      <td>0</td>\n",
              "      <td>No</td>\n",
              "      <td>No phone service</td>\n",
              "      <td>DSL</td>\n",
              "      <td>Yes</td>\n",
              "      <td>Yes</td>\n",
              "      <td>Yes</td>\n",
              "      <td>Yes</td>\n",
              "      <td>Yes</td>\n",
              "      <td>No</td>\n",
              "      <td>Two year</td>\n",
              "      <td>No</td>\n",
              "      <td>Credit card (automatic)</td>\n",
              "      <td>56.05</td>\n",
              "      <td>NaN</td>\n",
              "      <td>No</td>\n",
              "    </tr>\n",
              "    <tr>\n",
              "      <th>3331</th>\n",
              "      <td>7644-OMVMY</td>\n",
              "      <td>Male</td>\n",
              "      <td>0</td>\n",
              "      <td>Yes</td>\n",
              "      <td>Yes</td>\n",
              "      <td>0</td>\n",
              "      <td>Yes</td>\n",
              "      <td>No</td>\n",
              "      <td>No</td>\n",
              "      <td>No internet service</td>\n",
              "      <td>No internet service</td>\n",
              "      <td>No internet service</td>\n",
              "      <td>No internet service</td>\n",
              "      <td>No internet service</td>\n",
              "      <td>No internet service</td>\n",
              "      <td>Two year</td>\n",
              "      <td>No</td>\n",
              "      <td>Mailed check</td>\n",
              "      <td>19.85</td>\n",
              "      <td>NaN</td>\n",
              "      <td>No</td>\n",
              "    </tr>\n",
              "    <tr>\n",
              "      <th>3826</th>\n",
              "      <td>3213-VVOLG</td>\n",
              "      <td>Male</td>\n",
              "      <td>0</td>\n",
              "      <td>Yes</td>\n",
              "      <td>Yes</td>\n",
              "      <td>0</td>\n",
              "      <td>Yes</td>\n",
              "      <td>Yes</td>\n",
              "      <td>No</td>\n",
              "      <td>No internet service</td>\n",
              "      <td>No internet service</td>\n",
              "      <td>No internet service</td>\n",
              "      <td>No internet service</td>\n",
              "      <td>No internet service</td>\n",
              "      <td>No internet service</td>\n",
              "      <td>Two year</td>\n",
              "      <td>No</td>\n",
              "      <td>Mailed check</td>\n",
              "      <td>25.35</td>\n",
              "      <td>NaN</td>\n",
              "      <td>No</td>\n",
              "    </tr>\n",
              "    <tr>\n",
              "      <th>4380</th>\n",
              "      <td>2520-SGTTA</td>\n",
              "      <td>Female</td>\n",
              "      <td>0</td>\n",
              "      <td>Yes</td>\n",
              "      <td>Yes</td>\n",
              "      <td>0</td>\n",
              "      <td>Yes</td>\n",
              "      <td>No</td>\n",
              "      <td>No</td>\n",
              "      <td>No internet service</td>\n",
              "      <td>No internet service</td>\n",
              "      <td>No internet service</td>\n",
              "      <td>No internet service</td>\n",
              "      <td>No internet service</td>\n",
              "      <td>No internet service</td>\n",
              "      <td>Two year</td>\n",
              "      <td>No</td>\n",
              "      <td>Mailed check</td>\n",
              "      <td>20.00</td>\n",
              "      <td>NaN</td>\n",
              "      <td>No</td>\n",
              "    </tr>\n",
              "    <tr>\n",
              "      <th>5218</th>\n",
              "      <td>2923-ARZLG</td>\n",
              "      <td>Male</td>\n",
              "      <td>0</td>\n",
              "      <td>Yes</td>\n",
              "      <td>Yes</td>\n",
              "      <td>0</td>\n",
              "      <td>Yes</td>\n",
              "      <td>No</td>\n",
              "      <td>No</td>\n",
              "      <td>No internet service</td>\n",
              "      <td>No internet service</td>\n",
              "      <td>No internet service</td>\n",
              "      <td>No internet service</td>\n",
              "      <td>No internet service</td>\n",
              "      <td>No internet service</td>\n",
              "      <td>One year</td>\n",
              "      <td>Yes</td>\n",
              "      <td>Mailed check</td>\n",
              "      <td>19.70</td>\n",
              "      <td>NaN</td>\n",
              "      <td>No</td>\n",
              "    </tr>\n",
              "    <tr>\n",
              "      <th>6670</th>\n",
              "      <td>4075-WKNIU</td>\n",
              "      <td>Female</td>\n",
              "      <td>0</td>\n",
              "      <td>Yes</td>\n",
              "      <td>Yes</td>\n",
              "      <td>0</td>\n",
              "      <td>Yes</td>\n",
              "      <td>Yes</td>\n",
              "      <td>DSL</td>\n",
              "      <td>No</td>\n",
              "      <td>Yes</td>\n",
              "      <td>Yes</td>\n",
              "      <td>Yes</td>\n",
              "      <td>Yes</td>\n",
              "      <td>No</td>\n",
              "      <td>Two year</td>\n",
              "      <td>No</td>\n",
              "      <td>Mailed check</td>\n",
              "      <td>73.35</td>\n",
              "      <td>NaN</td>\n",
              "      <td>No</td>\n",
              "    </tr>\n",
              "    <tr>\n",
              "      <th>6754</th>\n",
              "      <td>2775-SEFEE</td>\n",
              "      <td>Male</td>\n",
              "      <td>0</td>\n",
              "      <td>No</td>\n",
              "      <td>Yes</td>\n",
              "      <td>0</td>\n",
              "      <td>Yes</td>\n",
              "      <td>Yes</td>\n",
              "      <td>DSL</td>\n",
              "      <td>Yes</td>\n",
              "      <td>Yes</td>\n",
              "      <td>No</td>\n",
              "      <td>Yes</td>\n",
              "      <td>No</td>\n",
              "      <td>No</td>\n",
              "      <td>Two year</td>\n",
              "      <td>Yes</td>\n",
              "      <td>Bank transfer (automatic)</td>\n",
              "      <td>61.90</td>\n",
              "      <td>NaN</td>\n",
              "      <td>No</td>\n",
              "    </tr>\n",
              "  </tbody>\n",
              "</table>\n",
              "</div>"
            ],
            "text/plain": [
              "      customerID  gender  SeniorCitizen  ... MonthlyCharges TotalCharges  Churn\n",
              "488   4472-LVYGI  Female              0  ...          52.55          NaN     No\n",
              "753   3115-CZMZD    Male              0  ...          20.25          NaN     No\n",
              "936   5709-LVOEQ  Female              0  ...          80.85          NaN     No\n",
              "1082  4367-NUYAO    Male              0  ...          25.75          NaN     No\n",
              "1340  1371-DWPAZ  Female              0  ...          56.05          NaN     No\n",
              "3331  7644-OMVMY    Male              0  ...          19.85          NaN     No\n",
              "3826  3213-VVOLG    Male              0  ...          25.35          NaN     No\n",
              "4380  2520-SGTTA  Female              0  ...          20.00          NaN     No\n",
              "5218  2923-ARZLG    Male              0  ...          19.70          NaN     No\n",
              "6670  4075-WKNIU  Female              0  ...          73.35          NaN     No\n",
              "6754  2775-SEFEE    Male              0  ...          61.90          NaN     No\n",
              "\n",
              "[11 rows x 21 columns]"
            ]
          },
          "metadata": {
            "tags": []
          },
          "execution_count": 67
        }
      ]
    },
    {
      "cell_type": "code",
      "metadata": {
        "colab": {
          "base_uri": "https://localhost:8080/"
        },
        "id": "-fCx4Gto2u0k",
        "outputId": "cb2379cf-748a-460f-95c3-f13dffc9b77c"
      },
      "source": [
        "# Above we see that the blank \"TotalCharges\" happen when customers have 0 months tenure so we will change those values to $0.\n",
        "# This will also change the dtype of total charges to float\n",
        "dataset[dataset['TotalCharges'].isna()==True] = 0\n",
        "dataset['OnlineBackup'].unique()"
      ],
      "execution_count": null,
      "outputs": [
        {
          "output_type": "execute_result",
          "data": {
            "text/plain": [
              "array(['Yes', 'No', 'No internet service', 0], dtype=object)"
            ]
          },
          "metadata": {
            "tags": []
          },
          "execution_count": 68
        }
      ]
    },
    {
      "cell_type": "code",
      "metadata": {
        "colab": {
          "base_uri": "https://localhost:8080/"
        },
        "id": "a7H5IAAB2u0k",
        "outputId": "196312c1-fbc6-4042-a3ef-7799d1bf827d"
      },
      "source": [
        "# Here I am now converting each categorical value to numeric value excluding the customer id since obviously it has no effect to customer churn\n",
        "# Since I need to plot the heatmap all values must be numeric too\n",
        "dataset['gender'].replace(['Male','Female'],[0,1],inplace=True)\n",
        "dataset['Partner'].replace(['Yes','No'],[1,0],inplace=True)\n",
        "dataset['Dependents'].replace(['Yes','No'],[1,0],inplace=True)\n",
        "dataset['PhoneService'].replace(['Yes','No'],[1,0],inplace=True)\n",
        "dataset['MultipleLines'].replace(['No phone service','No', 'Yes'],[0,0,1],inplace=True)\n",
        "dataset['InternetService'].replace(['No','DSL','Fiber optic'],[0,1,2],inplace=True)\n",
        "dataset['OnlineSecurity'].replace(['No','Yes','No internet service'],[0,1,0],inplace=True)\n",
        "dataset['OnlineBackup'].replace(['No','Yes','No internet service'],[0,1,0],inplace=True)\n",
        "dataset['DeviceProtection'].replace(['No','Yes','No internet service'],[0,1,0],inplace=True)\n",
        "dataset['TechSupport'].replace(['No','Yes','No internet service'],[0,1,0],inplace=True)\n",
        "dataset['StreamingTV'].replace(['No','Yes','No internet service'],[0,1,0],inplace=True)\n",
        "dataset['StreamingMovies'].replace(['No','Yes','No internet service'],[0,1,0],inplace=True)\n",
        "dataset['Contract'].replace(['Month-to-month', 'One year', 'Two year'],[0,1,2],inplace=True)\n",
        "dataset['PaperlessBilling'].replace(['Yes','No'],[1,0],inplace=True)\n",
        "dataset['PaymentMethod'].replace(['Electronic check', 'Mailed check', 'Bank transfer (automatic)','Credit card (automatic)'],[0,1,2,3],inplace=True)\n",
        "dataset['Churn'].replace(['Yes','No'],[1,0],inplace=True)\n",
        " \n",
        "dataset.info()"
      ],
      "execution_count": null,
      "outputs": [
        {
          "output_type": "stream",
          "text": [
            "<class 'pandas.core.frame.DataFrame'>\n",
            "RangeIndex: 7043 entries, 0 to 7042\n",
            "Data columns (total 21 columns):\n",
            " #   Column            Non-Null Count  Dtype  \n",
            "---  ------            --------------  -----  \n",
            " 0   customerID        7043 non-null   object \n",
            " 1   gender            7043 non-null   int64  \n",
            " 2   SeniorCitizen     7043 non-null   int64  \n",
            " 3   Partner           7043 non-null   int64  \n",
            " 4   Dependents        7043 non-null   int64  \n",
            " 5   tenure            7043 non-null   int64  \n",
            " 6   PhoneService      7043 non-null   int64  \n",
            " 7   MultipleLines     7043 non-null   int64  \n",
            " 8   InternetService   7043 non-null   int64  \n",
            " 9   OnlineSecurity    7043 non-null   int64  \n",
            " 10  OnlineBackup      7043 non-null   int64  \n",
            " 11  DeviceProtection  7043 non-null   int64  \n",
            " 12  TechSupport       7043 non-null   int64  \n",
            " 13  StreamingTV       7043 non-null   int64  \n",
            " 14  StreamingMovies   7043 non-null   int64  \n",
            " 15  Contract          7043 non-null   int64  \n",
            " 16  PaperlessBilling  7043 non-null   int64  \n",
            " 17  PaymentMethod     7043 non-null   int64  \n",
            " 18  MonthlyCharges    7043 non-null   float64\n",
            " 19  TotalCharges      7043 non-null   float64\n",
            " 20  Churn             7043 non-null   int64  \n",
            "dtypes: float64(2), int64(18), object(1)\n",
            "memory usage: 1.1+ MB\n"
          ],
          "name": "stdout"
        }
      ]
    },
    {
      "cell_type": "code",
      "metadata": {
        "colab": {
          "base_uri": "https://localhost:8080/",
          "height": 944
        },
        "id": "LQP04SV62u0l",
        "outputId": "f213f620-688b-44f0-cfcb-8401e4746f5d"
      },
      "source": [
        "# Plotting the correlation heatmap to check for correlation of each variable to the other\n",
        "corr = dataset.corr()\n",
        "sns.heatmap(corr, xticklabels=corr.columns.values, yticklabels=corr.columns.values, annot = True, annot_kws={'size':12})\n",
        "heat_map=plt.gcf()\n",
        "heat_map.set_size_inches(20,15)\n",
        "plt.xticks(fontsize=10)\n",
        "plt.yticks(fontsize=10)\n",
        "plt.show()"
      ],
      "execution_count": null,
      "outputs": [
        {
          "output_type": "display_data",
          "data": {
            "image/png": "[encoded data removed]",
            "text/plain": [
              "<Figure size 1440x1080 with 2 Axes>"
            ]
          },
          "metadata": {
            "tags": [],
            "needs_background": "light"
          }
        }
      ]
    },
    {
      "cell_type": "code",
      "metadata": {
        "colab": {
          "base_uri": "https://localhost:8080/"
        },
        "id": "60EdoGhA2u0m",
        "outputId": "cb03301f-2747-4afe-9d77-817a64604ce1"
      },
      "source": [
        "dataset.columns.values"
      ],
      "execution_count": null,
      "outputs": [
        {
          "output_type": "execute_result",
          "data": {
            "text/plain": [
              "array(['customerID', 'gender', 'SeniorCitizen', 'Partner', 'Dependents',\n",
              "       'tenure', 'PhoneService', 'MultipleLines', 'InternetService',\n",
              "       'OnlineSecurity', 'OnlineBackup', 'DeviceProtection',\n",
              "       'TechSupport', 'StreamingTV', 'StreamingMovies', 'Contract',\n",
              "       'PaperlessBilling', 'PaymentMethod', 'MonthlyCharges',\n",
              "       'TotalCharges', 'Churn'], dtype=object)"
            ]
          },
          "metadata": {
            "tags": []
          },
          "execution_count": 71
        }
      ]
    },
    {
      "cell_type": "code",
      "metadata": {
        "id": "tfDbNFNh2u0m"
      },
      "source": [
        "# Dropping all the variables with negative correlation to Churn \n",
        "# Since 'customerid' column does not provide any relevant information in predicting the customer churn, we can delete the column too.\n",
        "dataset=dataset.drop(['customerID','Partner', 'Dependents',\n",
        "       'tenure','OnlineSecurity', 'OnlineBackup', 'DeviceProtection',\n",
        "       'TechSupport', 'Contract','PaymentMethod',\n",
        "       'TotalCharges'], axis=1)"
      ],
      "execution_count": null,
      "outputs": []
    },
    {
      "cell_type": "code",
      "metadata": {
        "colab": {
          "base_uri": "https://localhost:8080/",
          "height": 205
        },
        "id": "1iETafSp2u0n",
        "outputId": "46bcc155-1a74-4ad6-933c-ed1f0a5b2bab"
      },
      "source": [
        "dataset.head()"
      ],
      "execution_count": null,
      "outputs": [
        {
          "output_type": "execute_result",
          "data": {
            "text/html": [
              "<div>\n",
              "<style scoped>\n",
              "    .dataframe tbody tr th:only-of-type {\n",
              "        vertical-align: middle;\n",
              "    }\n",
              "\n",
              "    .dataframe tbody tr th {\n",
              "        vertical-align: top;\n",
              "    }\n",
              "\n",
              "    .dataframe thead th {\n",
              "        text-align: right;\n",
              "    }\n",
              "</style>\n",
              "<table border=\"1\" class=\"dataframe\">\n",
              "  <thead>\n",
              "    <tr style=\"text-align: right;\">\n",
              "      <th></th>\n",
              "      <th>gender</th>\n",
              "      <th>SeniorCitizen</th>\n",
              "      <th>PhoneService</th>\n",
              "      <th>MultipleLines</th>\n",
              "      <th>InternetService</th>\n",
              "      <th>StreamingTV</th>\n",
              "      <th>StreamingMovies</th>\n",
              "      <th>PaperlessBilling</th>\n",
              "      <th>MonthlyCharges</th>\n",
              "      <th>Churn</th>\n",
              "    </tr>\n",
              "  </thead>\n",
              "  <tbody>\n",
              "    <tr>\n",
              "      <th>0</th>\n",
              "      <td>1</td>\n",
              "      <td>0</td>\n",
              "      <td>0</td>\n",
              "      <td>0</td>\n",
              "      <td>1</td>\n",
              "      <td>0</td>\n",
              "      <td>0</td>\n",
              "      <td>1</td>\n",
              "      <td>29.85</td>\n",
              "      <td>0</td>\n",
              "    </tr>\n",
              "    <tr>\n",
              "      <th>1</th>\n",
              "      <td>0</td>\n",
              "      <td>0</td>\n",
              "      <td>1</td>\n",
              "      <td>0</td>\n",
              "      <td>1</td>\n",
              "      <td>0</td>\n",
              "      <td>0</td>\n",
              "      <td>0</td>\n",
              "      <td>56.95</td>\n",
              "      <td>0</td>\n",
              "    </tr>\n",
              "    <tr>\n",
              "      <th>2</th>\n",
              "      <td>0</td>\n",
              "      <td>0</td>\n",
              "      <td>1</td>\n",
              "      <td>0</td>\n",
              "      <td>1</td>\n",
              "      <td>0</td>\n",
              "      <td>0</td>\n",
              "      <td>1</td>\n",
              "      <td>53.85</td>\n",
              "      <td>1</td>\n",
              "    </tr>\n",
              "    <tr>\n",
              "      <th>3</th>\n",
              "      <td>0</td>\n",
              "      <td>0</td>\n",
              "      <td>0</td>\n",
              "      <td>0</td>\n",
              "      <td>1</td>\n",
              "      <td>0</td>\n",
              "      <td>0</td>\n",
              "      <td>0</td>\n",
              "      <td>42.30</td>\n",
              "      <td>0</td>\n",
              "    </tr>\n",
              "    <tr>\n",
              "      <th>4</th>\n",
              "      <td>1</td>\n",
              "      <td>0</td>\n",
              "      <td>1</td>\n",
              "      <td>0</td>\n",
              "      <td>2</td>\n",
              "      <td>0</td>\n",
              "      <td>0</td>\n",
              "      <td>1</td>\n",
              "      <td>70.70</td>\n",
              "      <td>1</td>\n",
              "    </tr>\n",
              "  </tbody>\n",
              "</table>\n",
              "</div>"
            ],
            "text/plain": [
              "   gender  SeniorCitizen  PhoneService  ...  PaperlessBilling  MonthlyCharges  Churn\n",
              "0       1              0             0  ...                 1           29.85      0\n",
              "1       0              0             1  ...                 0           56.95      0\n",
              "2       0              0             1  ...                 1           53.85      1\n",
              "3       0              0             0  ...                 0           42.30      0\n",
              "4       1              0             1  ...                 1           70.70      1\n",
              "\n",
              "[5 rows x 10 columns]"
            ]
          },
          "metadata": {
            "tags": []
          },
          "execution_count": 73
        }
      ]
    },
    {
      "cell_type": "code",
      "metadata": {
        "colab": {
          "base_uri": "https://localhost:8080/"
        },
        "id": "sxB4GrFB2u0n",
        "outputId": "f572a242-d61a-4e34-f2fd-f1a2a8306c19"
      },
      "source": [
        "# Now checking the remaining variables with +ve correlation to churn \n",
        "dataset.columns.values"
      ],
      "execution_count": null,
      "outputs": [
        {
          "output_type": "execute_result",
          "data": {
            "text/plain": [
              "array(['gender', 'SeniorCitizen', 'PhoneService', 'MultipleLines',\n",
              "       'InternetService', 'StreamingTV', 'StreamingMovies',\n",
              "       'PaperlessBilling', 'MonthlyCharges', 'Churn'], dtype=object)"
            ]
          },
          "metadata": {
            "tags": []
          },
          "execution_count": 74
        }
      ]
    },
    {
      "cell_type": "code",
      "metadata": {
        "colab": {
          "base_uri": "https://localhost:8080/"
        },
        "id": "pMnC_CsX2u0o",
        "outputId": "db9946ef-7949-4352-a8d2-052af7d979df"
      },
      "source": [
        "dataset.info()"
      ],
      "execution_count": null,
      "outputs": [
        {
          "output_type": "stream",
          "text": [
            "<class 'pandas.core.frame.DataFrame'>\n",
            "RangeIndex: 7043 entries, 0 to 7042\n",
            "Data columns (total 10 columns):\n",
            " #   Column            Non-Null Count  Dtype  \n",
            "---  ------            --------------  -----  \n",
            " 0   gender            7043 non-null   int64  \n",
            " 1   SeniorCitizen     7043 non-null   int64  \n",
            " 2   PhoneService      7043 non-null   int64  \n",
            " 3   MultipleLines     7043 non-null   int64  \n",
            " 4   InternetService   7043 non-null   int64  \n",
            " 5   StreamingTV       7043 non-null   int64  \n",
            " 6   StreamingMovies   7043 non-null   int64  \n",
            " 7   PaperlessBilling  7043 non-null   int64  \n",
            " 8   MonthlyCharges    7043 non-null   float64\n",
            " 9   Churn             7043 non-null   int64  \n",
            "dtypes: float64(1), int64(9)\n",
            "memory usage: 550.4 KB\n"
          ],
          "name": "stdout"
        }
      ]
    },
    {
      "cell_type": "code",
      "metadata": {
        "id": "ctSAX7fm2u0q"
      },
      "source": [
        ""
      ],
      "execution_count": null,
      "outputs": []
    },
    {
      "cell_type": "code",
      "metadata": {
        "id": "WdfmvPh02u0q"
      },
      "source": [
        ""
      ],
      "execution_count": null,
      "outputs": []
    },
    {
      "cell_type": "code",
      "metadata": {
        "id": "mnZUG8Uq2u0q"
      },
      "source": [
        ""
      ],
      "execution_count": null,
      "outputs": []
    },
    {
      "cell_type": "code",
      "metadata": {
        "id": "ypvdFTF52u0q"
      },
      "source": [
        ""
      ],
      "execution_count": null,
      "outputs": []
    },
    {
      "cell_type": "code",
      "metadata": {
        "colab": {
          "base_uri": "https://localhost:8080/",
          "height": 205
        },
        "id": "1LifbgAd2u0q",
        "outputId": "2553a678-9fbc-46ee-c3bc-661b9a255c8b"
      },
      "source": [
        "dataset.head()"
      ],
      "execution_count": null,
      "outputs": [
        {
          "output_type": "execute_result",
          "data": {
            "text/html": [
              "<div>\n",
              "<style scoped>\n",
              "    .dataframe tbody tr th:only-of-type {\n",
              "        vertical-align: middle;\n",
              "    }\n",
              "\n",
              "    .dataframe tbody tr th {\n",
              "        vertical-align: top;\n",
              "    }\n",
              "\n",
              "    .dataframe thead th {\n",
              "        text-align: right;\n",
              "    }\n",
              "</style>\n",
              "<table border=\"1\" class=\"dataframe\">\n",
              "  <thead>\n",
              "    <tr style=\"text-align: right;\">\n",
              "      <th></th>\n",
              "      <th>gender</th>\n",
              "      <th>SeniorCitizen</th>\n",
              "      <th>PhoneService</th>\n",
              "      <th>MultipleLines</th>\n",
              "      <th>InternetService</th>\n",
              "      <th>StreamingTV</th>\n",
              "      <th>StreamingMovies</th>\n",
              "      <th>PaperlessBilling</th>\n",
              "      <th>MonthlyCharges</th>\n",
              "      <th>Churn</th>\n",
              "    </tr>\n",
              "  </thead>\n",
              "  <tbody>\n",
              "    <tr>\n",
              "      <th>0</th>\n",
              "      <td>1</td>\n",
              "      <td>0</td>\n",
              "      <td>0</td>\n",
              "      <td>0</td>\n",
              "      <td>1</td>\n",
              "      <td>0</td>\n",
              "      <td>0</td>\n",
              "      <td>1</td>\n",
              "      <td>29.85</td>\n",
              "      <td>0</td>\n",
              "    </tr>\n",
              "    <tr>\n",
              "      <th>1</th>\n",
              "      <td>0</td>\n",
              "      <td>0</td>\n",
              "      <td>1</td>\n",
              "      <td>0</td>\n",
              "      <td>1</td>\n",
              "      <td>0</td>\n",
              "      <td>0</td>\n",
              "      <td>0</td>\n",
              "      <td>56.95</td>\n",
              "      <td>0</td>\n",
              "    </tr>\n",
              "    <tr>\n",
              "      <th>2</th>\n",
              "      <td>0</td>\n",
              "      <td>0</td>\n",
              "      <td>1</td>\n",
              "      <td>0</td>\n",
              "      <td>1</td>\n",
              "      <td>0</td>\n",
              "      <td>0</td>\n",
              "      <td>1</td>\n",
              "      <td>53.85</td>\n",
              "      <td>1</td>\n",
              "    </tr>\n",
              "    <tr>\n",
              "      <th>3</th>\n",
              "      <td>0</td>\n",
              "      <td>0</td>\n",
              "      <td>0</td>\n",
              "      <td>0</td>\n",
              "      <td>1</td>\n",
              "      <td>0</td>\n",
              "      <td>0</td>\n",
              "      <td>0</td>\n",
              "      <td>42.30</td>\n",
              "      <td>0</td>\n",
              "    </tr>\n",
              "    <tr>\n",
              "      <th>4</th>\n",
              "      <td>1</td>\n",
              "      <td>0</td>\n",
              "      <td>1</td>\n",
              "      <td>0</td>\n",
              "      <td>2</td>\n",
              "      <td>0</td>\n",
              "      <td>0</td>\n",
              "      <td>1</td>\n",
              "      <td>70.70</td>\n",
              "      <td>1</td>\n",
              "    </tr>\n",
              "  </tbody>\n",
              "</table>\n",
              "</div>"
            ],
            "text/plain": [
              "   gender  SeniorCitizen  PhoneService  ...  PaperlessBilling  MonthlyCharges  Churn\n",
              "0       1              0             0  ...                 1           29.85      0\n",
              "1       0              0             1  ...                 0           56.95      0\n",
              "2       0              0             1  ...                 1           53.85      1\n",
              "3       0              0             0  ...                 0           42.30      0\n",
              "4       1              0             1  ...                 1           70.70      1\n",
              "\n",
              "[5 rows x 10 columns]"
            ]
          },
          "metadata": {
            "tags": []
          },
          "execution_count": 76
        }
      ]
    },
    {
      "cell_type": "code",
      "metadata": {
        "id": "Y14IIEcD2u0r"
      },
      "source": [
        "# Encoding the remaining categorical columns only\n",
        "from sklearn.preprocessing import LabelBinarizer\n",
        "encoder = LabelBinarizer()\n",
        "gender_encoded = encoder.fit_transform(dataset['gender']) # [Male or Female]\n",
        "PhoneService_encoded = encoder.fit_transform(dataset['PhoneService']) #[Yes or No]\n",
        "MultipleLines_encoded = encoder.fit_transform(dataset['MultipleLines']) #['No phone service','No', 'Yes']\n",
        "InternetService_encoded = encoder.fit_transform(dataset['InternetService']) #['No','DSL','Fiber optic']\n",
        "StreamingTV_encoded = encoder.fit_transform(dataset['StreamingTV']) #['No','Yes','No internet service']\n",
        "StreamingMovies_encoded = encoder.fit_transform(dataset['StreamingMovies']) #['No','Yes','No internet service']\n",
        "PaperlessBilling_encoded = encoder.fit_transform(dataset['PaperlessBilling']) #['Yes','No']\n",
        "Churn_encoded = encoder.fit_transform(dataset['Churn'])"
      ],
      "execution_count": null,
      "outputs": []
    },
    {
      "cell_type": "code",
      "metadata": {
        "colab": {
          "base_uri": "https://localhost:8080/"
        },
        "id": "UU5-Rthq2u0r",
        "outputId": "c5e9b4a0-47f7-4776-f701-c12b554de3f1"
      },
      "source": [
        "dataset.info()"
      ],
      "execution_count": null,
      "outputs": [
        {
          "output_type": "stream",
          "text": [
            "<class 'pandas.core.frame.DataFrame'>\n",
            "RangeIndex: 7043 entries, 0 to 7042\n",
            "Data columns (total 10 columns):\n",
            " #   Column            Non-Null Count  Dtype  \n",
            "---  ------            --------------  -----  \n",
            " 0   gender            7043 non-null   int64  \n",
            " 1   SeniorCitizen     7043 non-null   int64  \n",
            " 2   PhoneService      7043 non-null   int64  \n",
            " 3   MultipleLines     7043 non-null   int64  \n",
            " 4   InternetService   7043 non-null   int64  \n",
            " 5   StreamingTV       7043 non-null   int64  \n",
            " 6   StreamingMovies   7043 non-null   int64  \n",
            " 7   PaperlessBilling  7043 non-null   int64  \n",
            " 8   MonthlyCharges    7043 non-null   float64\n",
            " 9   Churn             7043 non-null   int64  \n",
            "dtypes: float64(1), int64(9)\n",
            "memory usage: 550.4 KB\n"
          ],
          "name": "stdout"
        }
      ]
    },
    {
      "cell_type": "code",
      "metadata": {
        "colab": {
          "base_uri": "https://localhost:8080/",
          "height": 421
        },
        "id": "VTxqwAUD2u0r",
        "outputId": "f4a74f8b-ff1a-450a-926f-93704b8f27be"
      },
      "source": [
        "dataset"
      ],
      "execution_count": null,
      "outputs": [
        {
          "output_type": "execute_result",
          "data": {
            "text/html": [
              "<div>\n",
              "<style scoped>\n",
              "    .dataframe tbody tr th:only-of-type {\n",
              "        vertical-align: middle;\n",
              "    }\n",
              "\n",
              "    .dataframe tbody tr th {\n",
              "        vertical-align: top;\n",
              "    }\n",
              "\n",
              "    .dataframe thead th {\n",
              "        text-align: right;\n",
              "    }\n",
              "</style>\n",
              "<table border=\"1\" class=\"dataframe\">\n",
              "  <thead>\n",
              "    <tr style=\"text-align: right;\">\n",
              "      <th></th>\n",
              "      <th>gender</th>\n",
              "      <th>SeniorCitizen</th>\n",
              "      <th>PhoneService</th>\n",
              "      <th>MultipleLines</th>\n",
              "      <th>InternetService</th>\n",
              "      <th>StreamingTV</th>\n",
              "      <th>StreamingMovies</th>\n",
              "      <th>PaperlessBilling</th>\n",
              "      <th>MonthlyCharges</th>\n",
              "      <th>Churn</th>\n",
              "    </tr>\n",
              "  </thead>\n",
              "  <tbody>\n",
              "    <tr>\n",
              "      <th>0</th>\n",
              "      <td>1</td>\n",
              "      <td>0</td>\n",
              "      <td>0</td>\n",
              "      <td>0</td>\n",
              "      <td>1</td>\n",
              "      <td>0</td>\n",
              "      <td>0</td>\n",
              "      <td>1</td>\n",
              "      <td>29.85</td>\n",
              "      <td>0</td>\n",
              "    </tr>\n",
              "    <tr>\n",
              "      <th>1</th>\n",
              "      <td>0</td>\n",
              "      <td>0</td>\n",
              "      <td>1</td>\n",
              "      <td>0</td>\n",
              "      <td>1</td>\n",
              "      <td>0</td>\n",
              "      <td>0</td>\n",
              "      <td>0</td>\n",
              "      <td>56.95</td>\n",
              "      <td>0</td>\n",
              "    </tr>\n",
              "    <tr>\n",
              "      <th>2</th>\n",
              "      <td>0</td>\n",
              "      <td>0</td>\n",
              "      <td>1</td>\n",
              "      <td>0</td>\n",
              "      <td>1</td>\n",
              "      <td>0</td>\n",
              "      <td>0</td>\n",
              "      <td>1</td>\n",
              "      <td>53.85</td>\n",
              "      <td>1</td>\n",
              "    </tr>\n",
              "    <tr>\n",
              "      <th>3</th>\n",
              "      <td>0</td>\n",
              "      <td>0</td>\n",
              "      <td>0</td>\n",
              "      <td>0</td>\n",
              "      <td>1</td>\n",
              "      <td>0</td>\n",
              "      <td>0</td>\n",
              "      <td>0</td>\n",
              "      <td>42.30</td>\n",
              "      <td>0</td>\n",
              "    </tr>\n",
              "    <tr>\n",
              "      <th>4</th>\n",
              "      <td>1</td>\n",
              "      <td>0</td>\n",
              "      <td>1</td>\n",
              "      <td>0</td>\n",
              "      <td>2</td>\n",
              "      <td>0</td>\n",
              "      <td>0</td>\n",
              "      <td>1</td>\n",
              "      <td>70.70</td>\n",
              "      <td>1</td>\n",
              "    </tr>\n",
              "    <tr>\n",
              "      <th>...</th>\n",
              "      <td>...</td>\n",
              "      <td>...</td>\n",
              "      <td>...</td>\n",
              "      <td>...</td>\n",
              "      <td>...</td>\n",
              "      <td>...</td>\n",
              "      <td>...</td>\n",
              "      <td>...</td>\n",
              "      <td>...</td>\n",
              "      <td>...</td>\n",
              "    </tr>\n",
              "    <tr>\n",
              "      <th>7038</th>\n",
              "      <td>0</td>\n",
              "      <td>0</td>\n",
              "      <td>1</td>\n",
              "      <td>1</td>\n",
              "      <td>1</td>\n",
              "      <td>1</td>\n",
              "      <td>1</td>\n",
              "      <td>1</td>\n",
              "      <td>84.80</td>\n",
              "      <td>0</td>\n",
              "    </tr>\n",
              "    <tr>\n",
              "      <th>7039</th>\n",
              "      <td>1</td>\n",
              "      <td>0</td>\n",
              "      <td>1</td>\n",
              "      <td>1</td>\n",
              "      <td>2</td>\n",
              "      <td>1</td>\n",
              "      <td>1</td>\n",
              "      <td>1</td>\n",
              "      <td>103.20</td>\n",
              "      <td>0</td>\n",
              "    </tr>\n",
              "    <tr>\n",
              "      <th>7040</th>\n",
              "      <td>1</td>\n",
              "      <td>0</td>\n",
              "      <td>0</td>\n",
              "      <td>0</td>\n",
              "      <td>1</td>\n",
              "      <td>0</td>\n",
              "      <td>0</td>\n",
              "      <td>1</td>\n",
              "      <td>29.60</td>\n",
              "      <td>0</td>\n",
              "    </tr>\n",
              "    <tr>\n",
              "      <th>7041</th>\n",
              "      <td>0</td>\n",
              "      <td>1</td>\n",
              "      <td>1</td>\n",
              "      <td>1</td>\n",
              "      <td>2</td>\n",
              "      <td>0</td>\n",
              "      <td>0</td>\n",
              "      <td>1</td>\n",
              "      <td>74.40</td>\n",
              "      <td>1</td>\n",
              "    </tr>\n",
              "    <tr>\n",
              "      <th>7042</th>\n",
              "      <td>0</td>\n",
              "      <td>0</td>\n",
              "      <td>1</td>\n",
              "      <td>0</td>\n",
              "      <td>2</td>\n",
              "      <td>1</td>\n",
              "      <td>1</td>\n",
              "      <td>1</td>\n",
              "      <td>105.65</td>\n",
              "      <td>0</td>\n",
              "    </tr>\n",
              "  </tbody>\n",
              "</table>\n",
              "<p>7043 rows × 10 columns</p>\n",
              "</div>"
            ],
            "text/plain": [
              "      gender  SeniorCitizen  ...  MonthlyCharges  Churn\n",
              "0          1              0  ...           29.85      0\n",
              "1          0              0  ...           56.95      0\n",
              "2          0              0  ...           53.85      1\n",
              "3          0              0  ...           42.30      0\n",
              "4          1              0  ...           70.70      1\n",
              "...      ...            ...  ...             ...    ...\n",
              "7038       0              0  ...           84.80      0\n",
              "7039       1              0  ...          103.20      0\n",
              "7040       1              0  ...           29.60      0\n",
              "7041       0              1  ...           74.40      1\n",
              "7042       0              0  ...          105.65      0\n",
              "\n",
              "[7043 rows x 10 columns]"
            ]
          },
          "metadata": {
            "tags": []
          },
          "execution_count": 79
        }
      ]
    },
    {
      "cell_type": "code",
      "metadata": {
        "colab": {
          "base_uri": "https://localhost:8080/"
        },
        "id": "Z-vgjCHM2u0s",
        "outputId": "55fa465e-cbb7-48af-ee14-41a29e98f563"
      },
      "source": [
        "# Now just making sure the data is encoded\n",
        "InternetService_encoded"
      ],
      "execution_count": null,
      "outputs": [
        {
          "output_type": "execute_result",
          "data": {
            "text/plain": [
              "array([[0, 1, 0],\n",
              "       [0, 1, 0],\n",
              "       [0, 1, 0],\n",
              "       ...,\n",
              "       [0, 1, 0],\n",
              "       [0, 0, 1],\n",
              "       [0, 0, 1]])"
            ]
          },
          "metadata": {
            "tags": []
          },
          "execution_count": 80
        }
      ]
    },
    {
      "cell_type": "code",
      "metadata": {
        "colab": {
          "base_uri": "https://localhost:8080/"
        },
        "id": "XVfFDUje2u0s",
        "outputId": "49dffc5d-949b-45bc-f90d-a49627b30ff0"
      },
      "source": [
        "# Checking the dimension for onehot\n",
        "InternetService_encoded.ndim"
      ],
      "execution_count": null,
      "outputs": [
        {
          "output_type": "execute_result",
          "data": {
            "text/plain": [
              "2"
            ]
          },
          "metadata": {
            "tags": []
          },
          "execution_count": 81
        }
      ]
    },
    {
      "cell_type": "raw",
      "metadata": {
        "id": "9kGh87y92u0t"
      },
      "source": [
        ""
      ]
    },
    {
      "cell_type": "code",
      "metadata": {
        "colab": {
          "base_uri": "https://localhost:8080/",
          "height": 944
        },
        "id": "h4i-wAkk2u0t",
        "outputId": "c862916c-dc54-4344-c24c-4d79a7e55f0c"
      },
      "source": [
        "# Now drawing the correlation heatmap of the selected remaining variables excluding those with -ve correlation\n",
        "corr = dataset.corr()\n",
        "sns.heatmap(corr, xticklabels=corr.columns.values, yticklabels=corr.columns.values, annot = True, annot_kws={'size':12})\n",
        "heat_map=plt.gcf()\n",
        "heat_map.set_size_inches(20,15)\n",
        "plt.xticks(fontsize=10)\n",
        "plt.yticks(fontsize=10)\n",
        "plt.show()"
      ],
      "execution_count": null,
      "outputs": [
        {
          "output_type": "display_data",
          "data": {
            "image/png": "[encoded data removed]",
            "text/plain": [
              "<Figure size 1440x1080 with 2 Axes>"
            ]
          },
          "metadata": {
            "tags": [],
            "needs_background": "light"
          }
        }
      ]
    },
    {
      "cell_type": "code",
      "metadata": {
        "colab": {
          "base_uri": "https://localhost:8080/",
          "height": 685
        },
        "id": "ThX_jj8F2u0t",
        "outputId": "6003d68e-9616-4e1e-b57a-3cc9d1197e84"
      },
      "source": [
        "#Get Correlation of \"Churn\" with other variables:\n",
        "plt.figure(figsize=(15,8))\n",
        "plt.ylabel('Correlation Coefficient')\n",
        "dataset.corr()['Churn'].sort_values(ascending = False).plot(kind='bar',    # Plot a bar chart\n",
        "        width=0.9,      # Set bar width as 75% of space available\n",
        "        figsize=(10,10),  # Set size of plot in inches\n",
        "        color='green'\n",
        "                                                           )"
      ],
      "execution_count": null,
      "outputs": [
        {
          "output_type": "execute_result",
          "data": {
            "text/plain": [
              "<matplotlib.axes._subplots.AxesSubplot at 0x7f26ecffdc90>"
            ]
          },
          "metadata": {
            "tags": []
          },
          "execution_count": 83
        },
        {
          "output_type": "display_data",
          "data": {
            "image/png": "[encoded data removed]",
            "text/plain": [
              "<Figure size 720x720 with 1 Axes>"
            ]
          },
          "metadata": {
            "tags": [],
            "needs_background": "light"
          }
        }
      ]
    },
    {
      "cell_type": "code",
      "metadata": {
        "id": "Lrlu5gKy2u0t"
      },
      "source": [
        ""
      ],
      "execution_count": null,
      "outputs": []
    },
    {
      "cell_type": "code",
      "metadata": {
        "colab": {
          "base_uri": "https://localhost:8080/",
          "height": 292
        },
        "id": "FI_0PJwK2u0u",
        "outputId": "e510cbae-19aa-4634-9328-8f3c6f763950"
      },
      "source": [
        "# Explore the relationship between instances of InternetService and Churn. \n",
        "# Stacked Bar of InternetService and Churn.\n",
        "InternetService_churn = pd.crosstab(dataset['InternetService'], dataset['Churn'])\n",
        "InternetService_churn.plot(kind = 'bar', stacked = True)\n",
        "plt.ylabel('Count')\n",
        "plt.xlabel('InternetService Count')\n",
        "plt.title('Churn Rate Relative to Uses of InternetService (Churned is a 1)')\n",
        "plt.show()"
      ],
      "execution_count": null,
      "outputs": [
        {
          "output_type": "display_data",
          "data": {
            "image/png": "[encoded data removed]",
            "text/plain": [
              "<Figure size 432x288 with 1 Axes>"
            ]
          },
          "metadata": {
            "tags": [],
            "needs_background": "light"
          }
        }
      ]
    },
    {
      "cell_type": "code",
      "metadata": {
        "colab": {
          "base_uri": "https://localhost:8080/",
          "height": 337
        },
        "id": "wXIPJBcZ2u0u",
        "outputId": "43943ce6-a9a1-4c7f-ce64-5364e60beb70"
      },
      "source": [
        "# Churn rate relative to MonthlyCharges\n",
        "# Stacked bar of MonthlyCharges and churn.\n",
        "fig = plt.figure(figsize=(20,25))\n",
        "InternetService_churn = pd.crosstab(dataset['MonthlyCharges'], dataset['Churn'])\n",
        "InternetService_churn.plot(kind = 'bar', stacked = True)\n",
        "plt.ylabel('Count')\n",
        "plt.xlabel('Monthly Charges')\n",
        "plt.title('Churn Rate Relative to MonthlyCharges (Churned is a 1)')\n",
        "plt.show()"
      ],
      "execution_count": null,
      "outputs": [
        {
          "output_type": "display_data",
          "data": {
            "text/plain": [
              "<Figure size 1440x1800 with 0 Axes>"
            ]
          },
          "metadata": {
            "tags": []
          }
        },
        {
          "output_type": "display_data",
          "data": {
            "image/png": "[encoded data removed]",
            "text/plain": [
              "<Figure size 432x288 with 1 Axes>"
            ]
          },
          "metadata": {
            "tags": [],
            "needs_background": "light"
          }
        }
      ]
    },
    {
      "cell_type": "code",
      "metadata": {
        "colab": {
          "base_uri": "https://localhost:8080/",
          "height": 309
        },
        "id": "9zqcyCBU2u0u",
        "outputId": "b51f0115-ec1c-47ea-d930-d7f220f7340b"
      },
      "source": [
        "# Churn rate relative to PaperlessBilling\n",
        "# Stacked bar of PaperlessBilling and churn.\n",
        "fig = plt.figure(figsize=(20,25))\n",
        "PaperlessBilling_churn = pd.crosstab(dataset['PaperlessBilling'], dataset['Churn'])\n",
        "PaperlessBilling_churn.plot(kind = 'bar', stacked = True)\n",
        "plt.ylabel('Count')\n",
        "plt.xlabel('Paperless Billing')\n",
        "plt.title('Churn Rate Relative to PaperlessBilling (Churned is a 1)')\n",
        "plt.show()"
      ],
      "execution_count": null,
      "outputs": [
        {
          "output_type": "display_data",
          "data": {
            "text/plain": [
              "<Figure size 1440x1800 with 0 Axes>"
            ]
          },
          "metadata": {
            "tags": []
          }
        },
        {
          "output_type": "display_data",
          "data": {
            "image/png": "[encoded data removed]",
            "text/plain": [
              "<Figure size 432x288 with 1 Axes>"
            ]
          },
          "metadata": {
            "tags": [],
            "needs_background": "light"
          }
        }
      ]
    },
    {
      "cell_type": "code",
      "metadata": {
        "colab": {
          "base_uri": "https://localhost:8080/",
          "height": 309
        },
        "id": "4y0o1r1D2u0v",
        "outputId": "4c8b6ec4-3349-424a-f2e1-9e2d6a846120"
      },
      "source": [
        "# Churn rate relative to SeniorCitizen\n",
        "# Stacked bar of SeniorCitizen and churn.\n",
        "fig = plt.figure(figsize=(20,25))\n",
        "SeniorCitizen_churn = pd.crosstab(dataset['SeniorCitizen'], dataset['Churn'])\n",
        "SeniorCitizen_churn.plot(kind = 'bar', stacked = True)\n",
        "plt.ylabel('Count')\n",
        "plt.xlabel('Senior Citizen')\n",
        "plt.title('Churn Rate Relative to Senior Citizen (Churned is a 1)')\n",
        "plt.show()"
      ],
      "execution_count": null,
      "outputs": [
        {
          "output_type": "display_data",
          "data": {
            "text/plain": [
              "<Figure size 1440x1800 with 0 Axes>"
            ]
          },
          "metadata": {
            "tags": []
          }
        },
        {
          "output_type": "display_data",
          "data": {
            "image/png": "[encoded data removed]",
            "text/plain": [
              "<Figure size 432x288 with 1 Axes>"
            ]
          },
          "metadata": {
            "tags": [],
            "needs_background": "light"
          }
        }
      ]
    },
    {
      "cell_type": "code",
      "metadata": {
        "colab": {
          "base_uri": "https://localhost:8080/",
          "height": 309
        },
        "id": "JIULVQYc2u0v",
        "outputId": "aca498db-8f3e-47bd-f411-5544e9ccbf12"
      },
      "source": [
        "# Churn rate relative to StreamingTV\n",
        "# Stacked bar of StreamingTV and churn.\n",
        "fig = plt.figure(figsize=(20,25))\n",
        "StreamingTV_churn = pd.crosstab(dataset['StreamingTV'], dataset['Churn'])\n",
        "StreamingTV_churn.plot(kind = 'bar', stacked = True)\n",
        "plt.ylabel('Count')\n",
        "plt.xlabel('Senior Citizen')\n",
        "plt.title('Churn Rate Relative to StreamingTV (Churned is a 1)')\n",
        "plt.show()"
      ],
      "execution_count": null,
      "outputs": [
        {
          "output_type": "display_data",
          "data": {
            "text/plain": [
              "<Figure size 1440x1800 with 0 Axes>"
            ]
          },
          "metadata": {
            "tags": []
          }
        },
        {
          "output_type": "display_data",
          "data": {
            "image/png": "[encoded data removed]",
            "text/plain": [
              "<Figure size 432x288 with 1 Axes>"
            ]
          },
          "metadata": {
            "tags": [],
            "needs_background": "light"
          }
        }
      ]
    },
    {
      "cell_type": "code",
      "metadata": {
        "colab": {
          "base_uri": "https://localhost:8080/",
          "height": 309
        },
        "id": "PKN3eUW_2u0w",
        "outputId": "7314512a-7571-4567-cd5e-d7e34ccc62b8"
      },
      "source": [
        "# Churn rate relative to StreamingMovies\n",
        "# Stacked bar of StreamingMovies and churn.\n",
        "fig = plt.figure(figsize=(20,25))\n",
        "StreamingTV_churn = pd.crosstab(dataset['StreamingMovies'], dataset['Churn'])\n",
        "StreamingTV_churn.plot(kind = 'bar', stacked = True)\n",
        "plt.ylabel('Count')\n",
        "plt.xlabel('Streaming Movies')\n",
        "plt.title('Churn Rate Relative to Streaming Movies (Churned is a 1)')\n",
        "plt.show()"
      ],
      "execution_count": null,
      "outputs": [
        {
          "output_type": "display_data",
          "data": {
            "text/plain": [
              "<Figure size 1440x1800 with 0 Axes>"
            ]
          },
          "metadata": {
            "tags": []
          }
        },
        {
          "output_type": "display_data",
          "data": {
            "image/png": "[encoded data removed]",
            "text/plain": [
              "<Figure size 432x288 with 1 Axes>"
            ]
          },
          "metadata": {
            "tags": [],
            "needs_background": "light"
          }
        }
      ]
    },
    {
      "cell_type": "code",
      "metadata": {
        "colab": {
          "base_uri": "https://localhost:8080/",
          "height": 309
        },
        "id": "3PObfeI82u0w",
        "outputId": "231ac8b9-38f2-4de0-ba01-706fd8904de6"
      },
      "source": [
        "# Churn rate relative to MultipleLines\n",
        "# Stacked bar of MultipleLines and churn.\n",
        "fig = plt.figure(figsize=(20,25))\n",
        "StreamingTV_churn = pd.crosstab(dataset['MultipleLines'], dataset['Churn'])\n",
        "StreamingTV_churn.plot(kind = 'bar', stacked = True)\n",
        "plt.ylabel('Count')\n",
        "plt.xlabel('MultipleLines')\n",
        "plt.title('Churn Rate Relative to MultipleLines (Churned is a 1)')\n",
        "plt.show()"
      ],
      "execution_count": null,
      "outputs": [
        {
          "output_type": "display_data",
          "data": {
            "text/plain": [
              "<Figure size 1440x1800 with 0 Axes>"
            ]
          },
          "metadata": {
            "tags": []
          }
        },
        {
          "output_type": "display_data",
          "data": {
            "image/png": "[encoded data removed]",
            "text/plain": [
              "<Figure size 432x288 with 1 Axes>"
            ]
          },
          "metadata": {
            "tags": [],
            "needs_background": "light"
          }
        }
      ]
    },
    {
      "cell_type": "code",
      "metadata": {
        "colab": {
          "base_uri": "https://localhost:8080/",
          "height": 309
        },
        "id": "tihO5t5m2u0x",
        "outputId": "6ea4ef92-336c-4931-820e-ca9f08e48458"
      },
      "source": [
        "# Churn rate relative to PhoneService\n",
        "# Stacked bar of PhoneService and churn.\n",
        "fig = plt.figure(figsize=(20,25))\n",
        "StreamingTV_churn = pd.crosstab(dataset['PhoneService'], dataset['Churn'])\n",
        "StreamingTV_churn.plot(kind = 'bar', stacked = True)\n",
        "plt.ylabel('Count')\n",
        "plt.xlabel('PhoneService')\n",
        "plt.title('Churn Rate Relative to PhoneService (Churned is a 1)')\n",
        "plt.show()"
      ],
      "execution_count": null,
      "outputs": [
        {
          "output_type": "display_data",
          "data": {
            "text/plain": [
              "<Figure size 1440x1800 with 0 Axes>"
            ]
          },
          "metadata": {
            "tags": []
          }
        },
        {
          "output_type": "display_data",
          "data": {
            "image/png": "[encoded data removed]",
            "text/plain": [
              "<Figure size 432x288 with 1 Axes>"
            ]
          },
          "metadata": {
            "tags": [],
            "needs_background": "light"
          }
        }
      ]
    },
    {
      "cell_type": "code",
      "metadata": {
        "colab": {
          "base_uri": "https://localhost:8080/",
          "height": 309
        },
        "id": "iaN8OvzY2u0x",
        "outputId": "6a55b79f-7780-4182-a79b-cf3a2a70648c"
      },
      "source": [
        "# Churn rate relative to gender\n",
        "# Stacked bar of gender and churn.\n",
        "fig = plt.figure(figsize=(20,25))\n",
        "StreamingTV_churn = pd.crosstab(dataset['gender'], dataset['Churn'])\n",
        "StreamingTV_churn.plot(kind = 'bar', stacked = True)\n",
        "plt.ylabel('Count')\n",
        "plt.xlabel('gender')\n",
        "plt.title('Churn Rate Relative to gender (Churned is a 1)')\n",
        "plt.show()"
      ],
      "execution_count": null,
      "outputs": [
        {
          "output_type": "display_data",
          "data": {
            "text/plain": [
              "<Figure size 1440x1800 with 0 Axes>"
            ]
          },
          "metadata": {
            "tags": []
          }
        },
        {
          "output_type": "display_data",
          "data": {
            "image/png": "[encoded data removed]",
            "text/plain": [
              "<Figure size 432x288 with 1 Axes>"
            ]
          },
          "metadata": {
            "tags": [],
            "needs_background": "light"
          }
        }
      ]
    },
    {
      "cell_type": "code",
      "metadata": {
        "id": "824yI6pV2u0x"
      },
      "source": [
        "# Feature Scaling of Monthly Charges column and Senior Citizen so that the model will be able to understand the different scales of numerical values\n",
        "from sklearn.preprocessing import MinMaxScaler, StandardScaler\n",
        "scaler=MinMaxScaler()\n",
        "dataset['MonthlyCharges_scaled'] = scaler.fit_transform(dataset['MonthlyCharges'].values.reshape(-1,1)) # reshaping so that I will keep the decimal price unrounded\n",
        "dataset['SeniorCitizen_scaled'] = scaler.fit_transform(dataset['SeniorCitizen'].values.reshape(-1,1))"
      ],
      "execution_count": null,
      "outputs": []
    },
    {
      "cell_type": "code",
      "metadata": {
        "colab": {
          "base_uri": "https://localhost:8080/",
          "height": 441
        },
        "id": "ngWv_f4i2u0y",
        "outputId": "d04a6a5b-f136-4788-92d5-b3d5c55a1123"
      },
      "source": [
        "dataset[8:]"
      ],
      "execution_count": null,
      "outputs": [
        {
          "output_type": "execute_result",
          "data": {
            "text/html": [
              "<div>\n",
              "<style scoped>\n",
              "    .dataframe tbody tr th:only-of-type {\n",
              "        vertical-align: middle;\n",
              "    }\n",
              "\n",
              "    .dataframe tbody tr th {\n",
              "        vertical-align: top;\n",
              "    }\n",
              "\n",
              "    .dataframe thead th {\n",
              "        text-align: right;\n",
              "    }\n",
              "</style>\n",
              "<table border=\"1\" class=\"dataframe\">\n",
              "  <thead>\n",
              "    <tr style=\"text-align: right;\">\n",
              "      <th></th>\n",
              "      <th>gender</th>\n",
              "      <th>SeniorCitizen</th>\n",
              "      <th>PhoneService</th>\n",
              "      <th>MultipleLines</th>\n",
              "      <th>InternetService</th>\n",
              "      <th>StreamingTV</th>\n",
              "      <th>StreamingMovies</th>\n",
              "      <th>PaperlessBilling</th>\n",
              "      <th>MonthlyCharges</th>\n",
              "      <th>Churn</th>\n",
              "      <th>MonthlyCharges_scaled</th>\n",
              "      <th>SeniorCitizen_scaled</th>\n",
              "    </tr>\n",
              "  </thead>\n",
              "  <tbody>\n",
              "    <tr>\n",
              "      <th>8</th>\n",
              "      <td>1</td>\n",
              "      <td>0</td>\n",
              "      <td>1</td>\n",
              "      <td>1</td>\n",
              "      <td>2</td>\n",
              "      <td>1</td>\n",
              "      <td>1</td>\n",
              "      <td>1</td>\n",
              "      <td>104.80</td>\n",
              "      <td>1</td>\n",
              "      <td>0.882526</td>\n",
              "      <td>0.0</td>\n",
              "    </tr>\n",
              "    <tr>\n",
              "      <th>9</th>\n",
              "      <td>0</td>\n",
              "      <td>0</td>\n",
              "      <td>1</td>\n",
              "      <td>0</td>\n",
              "      <td>1</td>\n",
              "      <td>0</td>\n",
              "      <td>0</td>\n",
              "      <td>0</td>\n",
              "      <td>56.15</td>\n",
              "      <td>0</td>\n",
              "      <td>0.472842</td>\n",
              "      <td>0.0</td>\n",
              "    </tr>\n",
              "    <tr>\n",
              "      <th>10</th>\n",
              "      <td>0</td>\n",
              "      <td>0</td>\n",
              "      <td>1</td>\n",
              "      <td>0</td>\n",
              "      <td>1</td>\n",
              "      <td>0</td>\n",
              "      <td>0</td>\n",
              "      <td>1</td>\n",
              "      <td>49.95</td>\n",
              "      <td>0</td>\n",
              "      <td>0.420632</td>\n",
              "      <td>0.0</td>\n",
              "    </tr>\n",
              "    <tr>\n",
              "      <th>11</th>\n",
              "      <td>0</td>\n",
              "      <td>0</td>\n",
              "      <td>1</td>\n",
              "      <td>0</td>\n",
              "      <td>0</td>\n",
              "      <td>0</td>\n",
              "      <td>0</td>\n",
              "      <td>0</td>\n",
              "      <td>18.95</td>\n",
              "      <td>0</td>\n",
              "      <td>0.159579</td>\n",
              "      <td>0.0</td>\n",
              "    </tr>\n",
              "    <tr>\n",
              "      <th>12</th>\n",
              "      <td>0</td>\n",
              "      <td>0</td>\n",
              "      <td>1</td>\n",
              "      <td>1</td>\n",
              "      <td>2</td>\n",
              "      <td>1</td>\n",
              "      <td>1</td>\n",
              "      <td>0</td>\n",
              "      <td>100.35</td>\n",
              "      <td>0</td>\n",
              "      <td>0.845053</td>\n",
              "      <td>0.0</td>\n",
              "    </tr>\n",
              "    <tr>\n",
              "      <th>...</th>\n",
              "      <td>...</td>\n",
              "      <td>...</td>\n",
              "      <td>...</td>\n",
              "      <td>...</td>\n",
              "      <td>...</td>\n",
              "      <td>...</td>\n",
              "      <td>...</td>\n",
              "      <td>...</td>\n",
              "      <td>...</td>\n",
              "      <td>...</td>\n",
              "      <td>...</td>\n",
              "      <td>...</td>\n",
              "    </tr>\n",
              "    <tr>\n",
              "      <th>7038</th>\n",
              "      <td>0</td>\n",
              "      <td>0</td>\n",
              "      <td>1</td>\n",
              "      <td>1</td>\n",
              "      <td>1</td>\n",
              "      <td>1</td>\n",
              "      <td>1</td>\n",
              "      <td>1</td>\n",
              "      <td>84.80</td>\n",
              "      <td>0</td>\n",
              "      <td>0.714105</td>\n",
              "      <td>0.0</td>\n",
              "    </tr>\n",
              "    <tr>\n",
              "      <th>7039</th>\n",
              "      <td>1</td>\n",
              "      <td>0</td>\n",
              "      <td>1</td>\n",
              "      <td>1</td>\n",
              "      <td>2</td>\n",
              "      <td>1</td>\n",
              "      <td>1</td>\n",
              "      <td>1</td>\n",
              "      <td>103.20</td>\n",
              "      <td>0</td>\n",
              "      <td>0.869053</td>\n",
              "      <td>0.0</td>\n",
              "    </tr>\n",
              "    <tr>\n",
              "      <th>7040</th>\n",
              "      <td>1</td>\n",
              "      <td>0</td>\n",
              "      <td>0</td>\n",
              "      <td>0</td>\n",
              "      <td>1</td>\n",
              "      <td>0</td>\n",
              "      <td>0</td>\n",
              "      <td>1</td>\n",
              "      <td>29.60</td>\n",
              "      <td>0</td>\n",
              "      <td>0.249263</td>\n",
              "      <td>0.0</td>\n",
              "    </tr>\n",
              "    <tr>\n",
              "      <th>7041</th>\n",
              "      <td>0</td>\n",
              "      <td>1</td>\n",
              "      <td>1</td>\n",
              "      <td>1</td>\n",
              "      <td>2</td>\n",
              "      <td>0</td>\n",
              "      <td>0</td>\n",
              "      <td>1</td>\n",
              "      <td>74.40</td>\n",
              "      <td>1</td>\n",
              "      <td>0.626526</td>\n",
              "      <td>1.0</td>\n",
              "    </tr>\n",
              "    <tr>\n",
              "      <th>7042</th>\n",
              "      <td>0</td>\n",
              "      <td>0</td>\n",
              "      <td>1</td>\n",
              "      <td>0</td>\n",
              "      <td>2</td>\n",
              "      <td>1</td>\n",
              "      <td>1</td>\n",
              "      <td>1</td>\n",
              "      <td>105.65</td>\n",
              "      <td>0</td>\n",
              "      <td>0.889684</td>\n",
              "      <td>0.0</td>\n",
              "    </tr>\n",
              "  </tbody>\n",
              "</table>\n",
              "<p>7035 rows × 12 columns</p>\n",
              "</div>"
            ],
            "text/plain": [
              "      gender  SeniorCitizen  ...  MonthlyCharges_scaled  SeniorCitizen_scaled\n",
              "8          1              0  ...               0.882526                   0.0\n",
              "9          0              0  ...               0.472842                   0.0\n",
              "10         0              0  ...               0.420632                   0.0\n",
              "11         0              0  ...               0.159579                   0.0\n",
              "12         0              0  ...               0.845053                   0.0\n",
              "...      ...            ...  ...                    ...                   ...\n",
              "7038       0              0  ...               0.714105                   0.0\n",
              "7039       1              0  ...               0.869053                   0.0\n",
              "7040       1              0  ...               0.249263                   0.0\n",
              "7041       0              1  ...               0.626526                   1.0\n",
              "7042       0              0  ...               0.889684                   0.0\n",
              "\n",
              "[7035 rows x 12 columns]"
            ]
          },
          "metadata": {
            "tags": []
          },
          "execution_count": 94
        }
      ]
    },
    {
      "cell_type": "code",
      "metadata": {
        "id": "ZPBRZqZX2u0y"
      },
      "source": [
        "# Now dropping the unscaled numerical columns so that we will be left a dataset with scaled numerical columns\n",
        "dataset=dataset.drop(['MonthlyCharges','SeniorCitizen'], axis=1)"
      ],
      "execution_count": null,
      "outputs": []
    },
    {
      "cell_type": "code",
      "metadata": {
        "colab": {
          "base_uri": "https://localhost:8080/",
          "height": 421
        },
        "id": "nfnve4GjGWP9",
        "outputId": "7e708020-a7b7-4d93-d151-da746ce36fd0"
      },
      "source": [
        "dataset"
      ],
      "execution_count": null,
      "outputs": [
        {
          "output_type": "execute_result",
          "data": {
            "text/html": [
              "<div>\n",
              "<style scoped>\n",
              "    .dataframe tbody tr th:only-of-type {\n",
              "        vertical-align: middle;\n",
              "    }\n",
              "\n",
              "    .dataframe tbody tr th {\n",
              "        vertical-align: top;\n",
              "    }\n",
              "\n",
              "    .dataframe thead th {\n",
              "        text-align: right;\n",
              "    }\n",
              "</style>\n",
              "<table border=\"1\" class=\"dataframe\">\n",
              "  <thead>\n",
              "    <tr style=\"text-align: right;\">\n",
              "      <th></th>\n",
              "      <th>gender</th>\n",
              "      <th>PhoneService</th>\n",
              "      <th>MultipleLines</th>\n",
              "      <th>InternetService</th>\n",
              "      <th>StreamingTV</th>\n",
              "      <th>StreamingMovies</th>\n",
              "      <th>PaperlessBilling</th>\n",
              "      <th>Churn</th>\n",
              "      <th>MonthlyCharges_scaled</th>\n",
              "      <th>SeniorCitizen_scaled</th>\n",
              "    </tr>\n",
              "  </thead>\n",
              "  <tbody>\n",
              "    <tr>\n",
              "      <th>0</th>\n",
              "      <td>1</td>\n",
              "      <td>0</td>\n",
              "      <td>0</td>\n",
              "      <td>1</td>\n",
              "      <td>0</td>\n",
              "      <td>0</td>\n",
              "      <td>1</td>\n",
              "      <td>0</td>\n",
              "      <td>0.251368</td>\n",
              "      <td>0.0</td>\n",
              "    </tr>\n",
              "    <tr>\n",
              "      <th>1</th>\n",
              "      <td>0</td>\n",
              "      <td>1</td>\n",
              "      <td>0</td>\n",
              "      <td>1</td>\n",
              "      <td>0</td>\n",
              "      <td>0</td>\n",
              "      <td>0</td>\n",
              "      <td>0</td>\n",
              "      <td>0.479579</td>\n",
              "      <td>0.0</td>\n",
              "    </tr>\n",
              "    <tr>\n",
              "      <th>2</th>\n",
              "      <td>0</td>\n",
              "      <td>1</td>\n",
              "      <td>0</td>\n",
              "      <td>1</td>\n",
              "      <td>0</td>\n",
              "      <td>0</td>\n",
              "      <td>1</td>\n",
              "      <td>1</td>\n",
              "      <td>0.453474</td>\n",
              "      <td>0.0</td>\n",
              "    </tr>\n",
              "    <tr>\n",
              "      <th>3</th>\n",
              "      <td>0</td>\n",
              "      <td>0</td>\n",
              "      <td>0</td>\n",
              "      <td>1</td>\n",
              "      <td>0</td>\n",
              "      <td>0</td>\n",
              "      <td>0</td>\n",
              "      <td>0</td>\n",
              "      <td>0.356211</td>\n",
              "      <td>0.0</td>\n",
              "    </tr>\n",
              "    <tr>\n",
              "      <th>4</th>\n",
              "      <td>1</td>\n",
              "      <td>1</td>\n",
              "      <td>0</td>\n",
              "      <td>2</td>\n",
              "      <td>0</td>\n",
              "      <td>0</td>\n",
              "      <td>1</td>\n",
              "      <td>1</td>\n",
              "      <td>0.595368</td>\n",
              "      <td>0.0</td>\n",
              "    </tr>\n",
              "    <tr>\n",
              "      <th>...</th>\n",
              "      <td>...</td>\n",
              "      <td>...</td>\n",
              "      <td>...</td>\n",
              "      <td>...</td>\n",
              "      <td>...</td>\n",
              "      <td>...</td>\n",
              "      <td>...</td>\n",
              "      <td>...</td>\n",
              "      <td>...</td>\n",
              "      <td>...</td>\n",
              "    </tr>\n",
              "    <tr>\n",
              "      <th>7038</th>\n",
              "      <td>0</td>\n",
              "      <td>1</td>\n",
              "      <td>1</td>\n",
              "      <td>1</td>\n",
              "      <td>1</td>\n",
              "      <td>1</td>\n",
              "      <td>1</td>\n",
              "      <td>0</td>\n",
              "      <td>0.714105</td>\n",
              "      <td>0.0</td>\n",
              "    </tr>\n",
              "    <tr>\n",
              "      <th>7039</th>\n",
              "      <td>1</td>\n",
              "      <td>1</td>\n",
              "      <td>1</td>\n",
              "      <td>2</td>\n",
              "      <td>1</td>\n",
              "      <td>1</td>\n",
              "      <td>1</td>\n",
              "      <td>0</td>\n",
              "      <td>0.869053</td>\n",
              "      <td>0.0</td>\n",
              "    </tr>\n",
              "    <tr>\n",
              "      <th>7040</th>\n",
              "      <td>1</td>\n",
              "      <td>0</td>\n",
              "      <td>0</td>\n",
              "      <td>1</td>\n",
              "      <td>0</td>\n",
              "      <td>0</td>\n",
              "      <td>1</td>\n",
              "      <td>0</td>\n",
              "      <td>0.249263</td>\n",
              "      <td>0.0</td>\n",
              "    </tr>\n",
              "    <tr>\n",
              "      <th>7041</th>\n",
              "      <td>0</td>\n",
              "      <td>1</td>\n",
              "      <td>1</td>\n",
              "      <td>2</td>\n",
              "      <td>0</td>\n",
              "      <td>0</td>\n",
              "      <td>1</td>\n",
              "      <td>1</td>\n",
              "      <td>0.626526</td>\n",
              "      <td>1.0</td>\n",
              "    </tr>\n",
              "    <tr>\n",
              "      <th>7042</th>\n",
              "      <td>0</td>\n",
              "      <td>1</td>\n",
              "      <td>0</td>\n",
              "      <td>2</td>\n",
              "      <td>1</td>\n",
              "      <td>1</td>\n",
              "      <td>1</td>\n",
              "      <td>0</td>\n",
              "      <td>0.889684</td>\n",
              "      <td>0.0</td>\n",
              "    </tr>\n",
              "  </tbody>\n",
              "</table>\n",
              "<p>7043 rows × 10 columns</p>\n",
              "</div>"
            ],
            "text/plain": [
              "      gender  PhoneService  ...  MonthlyCharges_scaled  SeniorCitizen_scaled\n",
              "0          1             0  ...               0.251368                   0.0\n",
              "1          0             1  ...               0.479579                   0.0\n",
              "2          0             1  ...               0.453474                   0.0\n",
              "3          0             0  ...               0.356211                   0.0\n",
              "4          1             1  ...               0.595368                   0.0\n",
              "...      ...           ...  ...                    ...                   ...\n",
              "7038       0             1  ...               0.714105                   0.0\n",
              "7039       1             1  ...               0.869053                   0.0\n",
              "7040       1             0  ...               0.249263                   0.0\n",
              "7041       0             1  ...               0.626526                   1.0\n",
              "7042       0             1  ...               0.889684                   0.0\n",
              "\n",
              "[7043 rows x 10 columns]"
            ]
          },
          "metadata": {
            "tags": []
          },
          "execution_count": 202
        }
      ]
    },
    {
      "cell_type": "code",
      "metadata": {
        "colab": {
          "base_uri": "https://localhost:8080/"
        },
        "id": "bt7GVZvI2u0y",
        "outputId": "34d186ce-12a5-4b1c-c9ca-138579516bfc"
      },
      "source": [
        "dataset.columns.values"
      ],
      "execution_count": null,
      "outputs": [
        {
          "output_type": "execute_result",
          "data": {
            "text/plain": [
              "array(['gender', 'PhoneService', 'MultipleLines', 'InternetService',\n",
              "       'StreamingTV', 'StreamingMovies', 'PaperlessBilling', 'Churn',\n",
              "       'MonthlyCharges_scaled', 'SeniorCitizen_scaled'], dtype=object)"
            ]
          },
          "metadata": {
            "tags": []
          },
          "execution_count": 203
        }
      ]
    },
    {
      "cell_type": "code",
      "metadata": {
        "id": "hbPnrpMdJhiG"
      },
      "source": [
        ""
      ],
      "execution_count": null,
      "outputs": []
    },
    {
      "cell_type": "code",
      "metadata": {
        "id": "5nrN2pSG2u0y"
      },
      "source": [
        "# Selecting X_train, X_test, Y_train, Y_test\n",
        "# More data must must be allocated to the training set and less data for testing\n",
        "# (80% training and 20% testing)\n",
        "X_train, X_test, y_train, y_test = train_test_split(dataset.drop('Churn',axis=1), \n",
        "                                                    dataset['Churn'], test_size=0.20, \n",
        "                                                    random_state=35)"
      ],
      "execution_count": null,
      "outputs": []
    },
    {
      "cell_type": "code",
      "metadata": {
        "id": "25vlVaNT2u0z"
      },
      "source": [
        "# Concatinating the 2 training sets\n",
        "train_data=pd.concat([X_train,y_train],axis=1)"
      ],
      "execution_count": null,
      "outputs": []
    },
    {
      "cell_type": "code",
      "metadata": {
        "colab": {
          "base_uri": "https://localhost:8080/"
        },
        "id": "0rYwxH342u0z",
        "outputId": "8ecd0921-7576-4477-a017-7f2ce93312af"
      },
      "source": [
        "X_train.shape"
      ],
      "execution_count": null,
      "outputs": [
        {
          "output_type": "execute_result",
          "data": {
            "text/plain": [
              "(5634, 9)"
            ]
          },
          "metadata": {
            "tags": []
          },
          "execution_count": 206
        }
      ]
    },
    {
      "cell_type": "code",
      "metadata": {
        "colab": {
          "base_uri": "https://localhost:8080/"
        },
        "id": "1wB1-WCl2u0z",
        "outputId": "a47aa864-1f7e-48f7-be0c-5420367ec7a7"
      },
      "source": [
        "X_test.shape"
      ],
      "execution_count": null,
      "outputs": [
        {
          "output_type": "execute_result",
          "data": {
            "text/plain": [
              "(1409, 9)"
            ]
          },
          "metadata": {
            "tags": []
          },
          "execution_count": 208
        }
      ]
    },
    {
      "cell_type": "code",
      "metadata": {
        "colab": {
          "base_uri": "https://localhost:8080/"
        },
        "id": "csa6vjEc2u00",
        "outputId": "5b585794-07fd-4748-a83a-9fc6286ae008"
      },
      "source": [
        "y_train.shape"
      ],
      "execution_count": null,
      "outputs": [
        {
          "output_type": "execute_result",
          "data": {
            "text/plain": [
              "(5634,)"
            ]
          },
          "metadata": {
            "tags": []
          },
          "execution_count": 209
        }
      ]
    },
    {
      "cell_type": "code",
      "metadata": {
        "colab": {
          "base_uri": "https://localhost:8080/"
        },
        "id": "XLAkRbxz2u00",
        "outputId": "f7b2685e-c923-4c07-ae4d-d708f8799972"
      },
      "source": [
        "y_test.shape"
      ],
      "execution_count": null,
      "outputs": [
        {
          "output_type": "execute_result",
          "data": {
            "text/plain": [
              "(1409,)"
            ]
          },
          "metadata": {
            "tags": []
          },
          "execution_count": 210
        }
      ]
    },
    {
      "cell_type": "code",
      "metadata": {
        "id": "uT7ccBOW2u00"
      },
      "source": [
        ""
      ],
      "execution_count": null,
      "outputs": []
    },
    {
      "cell_type": "code",
      "metadata": {
        "colab": {
          "base_uri": "https://localhost:8080/"
        },
        "id": "WOV5voiO2u00",
        "outputId": "07a81dc6-c07e-4362-c7b7-fec117d3209c"
      },
      "source": [
        "!pip install xgboost"
      ],
      "execution_count": null,
      "outputs": [
        {
          "output_type": "stream",
          "text": [
            "Requirement already satisfied: xgboost in /usr/local/lib/python3.7/dist-packages (0.90)\n",
            "Requirement already satisfied: numpy in /usr/local/lib/python3.7/dist-packages (from xgboost) (1.19.5)\n",
            "Requirement already satisfied: scipy in /usr/local/lib/python3.7/dist-packages (from xgboost) (1.4.1)\n"
          ],
          "name": "stdout"
        }
      ]
    },
    {
      "cell_type": "code",
      "metadata": {
        "id": "alySWMKn2u00"
      },
      "source": [
        "# Function to estimate the best value of n_estimators and fit the model with the given data.\n",
        "def modelfit(alg, dtrain, predictors,useTrainCV=True, cv_folds=5, early_stopping_rounds=50):\n",
        "    \n",
        "    if useTrainCV:\n",
        "        #to get the parameters of xgboost\n",
        "        xgb_param = alg.get_xgb_params() \n",
        "        \n",
        "        #to convert into a datastructure internally used by xgboost for training efficiency \n",
        "        # and speed\n",
        "        xgtrain = xgb.DMatrix(dtrain[predictors].values, label=dtrain[target].values)\n",
        "        \n",
        "        #xgb.cv is used to find the number of estimators required for the parameters \n",
        "        # which are set\n",
        "        cvresult = xgb.cv(xgb_param, xgtrain, \n",
        "                          num_boost_round=alg.get_params()['n_estimators'], nfold=cv_folds,\n",
        "                        metrics='auc', early_stopping_rounds=early_stopping_rounds)\n",
        "        \n",
        "        #setting the n_estimators parameter using set_params\n",
        "        alg.set_params(n_estimators=cvresult.shape[0])\n",
        "        \n",
        "        print(alg.get_xgb_params())\n",
        "    \n",
        "    #Fit the algorithm on the data\n",
        "    alg.fit(dtrain[predictors], dtrain['Churn'],eval_metric='auc')\n",
        "    \n",
        "    return alg"
      ],
      "execution_count": null,
      "outputs": []
    },
    {
      "cell_type": "code",
      "metadata": {
        "id": "e9XsrWLF2u01"
      },
      "source": [
        "# Defining a function that I will need to get the accuracy value\n",
        "def get_accuracy(alg,predictors):\n",
        "    dtrain_predictions = alg.predict(X_test[predictors])\n",
        "    dtrain_predprob = alg.predict_proba(X_test[predictors])[:,1] #Prediction probability\n",
        "    print (\"\\nModel Report\")\n",
        "    print (\"Accuracy : %.4g\" % (metrics.accuracy_score(y_test.values,dtrain_predictions)*100))\n",
        "    print (\"AUC Score (Train): %f\" % (metrics.roc_auc_score(y_test.values,dtrain_predprob)*100))"
      ],
      "execution_count": null,
      "outputs": []
    },
    {
      "cell_type": "code",
      "metadata": {
        "id": "SN0WfIzC2u01"
      },
      "source": [
        ""
      ],
      "execution_count": null,
      "outputs": []
    },
    {
      "cell_type": "code",
      "metadata": {
        "id": "9deeqtRp2u01"
      },
      "source": [
        "# Defining a function that I will need to get the feature importances based on xgboost using fscore\n",
        "def get_feature(alg):\n",
        "    #to get the feature importances based on xgboost we use fscore\n",
        "    feat_imp = pd.Series(alg._Booster.get_fscore()).sort_values(ascending=False)\n",
        "    print(feat_imp)\n",
        "    \n",
        "    #this shows the feature importances on a bar chart\n",
        "    feat_imp.plot(kind='bar', color='orange', title='Feature Importances')\n",
        "    plt.ylabel('Feature Importance Score')"
      ],
      "execution_count": null,
      "outputs": []
    },
    {
      "cell_type": "code",
      "metadata": {
        "id": "OmL1vRtJ2u01"
      },
      "source": [
        "target = 'Churn' #Chrun which is the target variable(Dependent variable)"
      ],
      "execution_count": null,
      "outputs": []
    },
    {
      "cell_type": "code",
      "metadata": {
        "id": "V-yG7yTO2u01"
      },
      "source": [
        "# Model selection, predictions and metrics\n",
        "def XgbClass(learning_rate =0.1,n_estimators=1000,max_depth=5,min_child_weight=1,\n",
        "             gamma=0,subsample=0.8,colsample_bytree=0.8):\n",
        "    xgb1 = XGBClassifier(learning_rate=learning_rate,\n",
        "                         n_estimators=n_estimators,\n",
        "                         max_depth=max_depth,\n",
        "                         min_child_weight=min_child_weight,\n",
        "                         gamma=gamma,\n",
        "                         subsample=subsample,\n",
        "                         colsample_bytree=colsample_bytree)\n",
        "    return xgb1"
      ],
      "execution_count": null,
      "outputs": []
    },
    {
      "cell_type": "code",
      "metadata": {
        "id": "nf_Uli0w2u02"
      },
      "source": [
        "# These are the initial parameters before tuning.\n",
        "def drop_features(l):\n",
        "    return [x for x in train_data.columns if x not in l]"
      ],
      "execution_count": null,
      "outputs": []
    },
    {
      "cell_type": "code",
      "metadata": {
        "id": "tLBznfNi2u02"
      },
      "source": [
        "#First Prediction: Use of initial parameters and without feature engineering\n",
        "from xgboost import XGBClassifier\n",
        "import xgboost as xgb1"
      ],
      "execution_count": null,
      "outputs": []
    },
    {
      "cell_type": "code",
      "metadata": {
        "colab": {
          "base_uri": "https://localhost:8080/"
        },
        "id": "xQIt29JI784v",
        "outputId": "493c881c-a9fa-4a20-dde2-54a050950f8e"
      },
      "source": [
        "predictors = drop_features(target)\n",
        "xgb1=XgbClass()\n",
        "mymodel=modelfit(xgb1, train_data, predictors) # Inputing the train data(X_train and y_train) and predictors\n",
        "xgb1.fit(train_data[predictors],train_data['Churn'])"
      ],
      "execution_count": null,
      "outputs": [
        {
          "output_type": "stream",
          "text": [
            "{'base_score': 0.5, 'booster': 'gbtree', 'colsample_bylevel': 1, 'colsample_bynode': 1, 'colsample_bytree': 0.8, 'gamma': 0, 'learning_rate': 0.1, 'max_delta_step': 0, 'max_depth': 5, 'min_child_weight': 1, 'missing': None, 'n_estimators': 33, 'nthread': 1, 'objective': 'binary:logistic', 'reg_alpha': 0, 'reg_lambda': 1, 'scale_pos_weight': 1, 'seed': 0, 'subsample': 0.8, 'verbosity': 1}\n"
          ],
          "name": "stdout"
        },
        {
          "output_type": "execute_result",
          "data": {
            "text/plain": [
              "XGBClassifier(base_score=0.5, booster='gbtree', colsample_bylevel=1,\n",
              "              colsample_bynode=1, colsample_bytree=0.8, gamma=0,\n",
              "              learning_rate=0.1, max_delta_step=0, max_depth=5,\n",
              "              min_child_weight=1, missing=None, n_estimators=33, n_jobs=1,\n",
              "              nthread=None, objective='binary:logistic', random_state=0,\n",
              "              reg_alpha=0, reg_lambda=1, scale_pos_weight=1, seed=None,\n",
              "              silent=None, subsample=0.8, verbosity=1)"
            ]
          },
          "metadata": {
            "tags": []
          },
          "execution_count": 243
        }
      ]
    },
    {
      "cell_type": "code",
      "metadata": {
        "colab": {
          "base_uri": "https://localhost:8080/"
        },
        "id": "tzkMgvzP2u02",
        "outputId": "086192d8-ccec-409e-cc40-53ae0994ec2d"
      },
      "source": [
        "# Calling the get accuracy function\n",
        "get_accuracy(mymodel,predictors)"
      ],
      "execution_count": null,
      "outputs": [
        {
          "output_type": "stream",
          "text": [
            "\n",
            "Model Report\n",
            "Accuracy : 77.86\n",
            "AUC Score (Train): 77.966916\n"
          ],
          "name": "stdout"
        }
      ]
    },
    {
      "cell_type": "code",
      "metadata": {
        "id": "164uw4Ca2u04"
      },
      "source": [
        "# Accuracy is the proportion of true positives and negatives in the whole data set. It determines if a value is accurate compare it to the accepted value; the nearness of a calculation to the true value.\n",
        "\n",
        "# AUC (area under the ROC receiver operating characteristic curve) measures how true positive rate (recall) and false positive rate trade off, so in that sense it is already measuring something else"
      ],
      "execution_count": null,
      "outputs": []
    },
    {
      "cell_type": "code",
      "metadata": {
        "colab": {
          "base_uri": "https://localhost:8080/",
          "height": 566
        },
        "id": "_zPGIXjV2u05",
        "outputId": "08ba6958-f896-4337-de38-23e95dc7eca9"
      },
      "source": [
        "# Plotting feature importances\n",
        "get_feature(mymodel)"
      ],
      "execution_count": null,
      "outputs": [
        {
          "output_type": "stream",
          "text": [
            "MonthlyCharges_scaled    388\n",
            "StreamingMovies           68\n",
            "PaperlessBilling          61\n",
            "InternetService           60\n",
            "SeniorCitizen_scaled      48\n",
            "gender                    47\n",
            "StreamingTV               46\n",
            "MultipleLines             41\n",
            "PhoneService              22\n",
            "dtype: int64\n"
          ],
          "name": "stdout"
        },
        {
          "output_type": "display_data",
          "data": {
            "image/png": "[encoded data removed]",
            "text/plain": [
              "<Figure size 432x288 with 1 Axes>"
            ]
          },
          "metadata": {
            "tags": [],
            "needs_background": "light"
          }
        }
      ]
    },
    {
      "cell_type": "code",
      "metadata": {
        "id": "duWcmgre2u05"
      },
      "source": [
        "# From the above plot I can see that all features have +ve feature importance score and they are the ones \n",
        "# I selected in item(i) of the question"
      ],
      "execution_count": null,
      "outputs": []
    },
    {
      "cell_type": "code",
      "metadata": {
        "colab": {
          "base_uri": "https://localhost:8080/"
        },
        "id": "zY2Z1zVu2u05",
        "outputId": "9358430b-b7d3-4007-8b7f-f71534e9a647"
      },
      "source": [
        "get_accuracy(mymodel,predictors)"
      ],
      "execution_count": null,
      "outputs": [
        {
          "output_type": "stream",
          "text": [
            "\n",
            "Model Report\n",
            "Accuracy : 77.86\n",
            "AUC Score (Train): 77.966916\n"
          ],
          "name": "stdout"
        }
      ]
    },
    {
      "cell_type": "markdown",
      "metadata": {
        "id": "_V6_WvgDQWG7"
      },
      "source": [
        "Tuning\n"
      ]
    },
    {
      "cell_type": "code",
      "metadata": {
        "colab": {
          "base_uri": "https://localhost:8080/"
        },
        "id": "GDZeGflU2u05",
        "outputId": "eefc5f6b-6497-4870-d0be-2e6bea2b28c7"
      },
      "source": [
        "param_test1 = {\n",
        " 'max_depth':list(range(5,10,1)),\n",
        " 'min_child_weight':list(range(5,10,1))\n",
        "}\n",
        "gsearch1 = GridSearchCV(estimator=XgbClass(n_estimators=48),param_grid =param_test1,\n",
        "                        scoring='roc_auc',n_jobs=-1,iid=False, cv=5, verbose=3)\n",
        "gsearch1.fit(train_data[predictors],train_data[target])\n",
        "gsearch1.cv_results_, gsearch1.best_params_, gsearch1.best_score_\n",
        "\n",
        "# If the best parameters are edge values then we do \n",
        "# GridSearchCV by taking one less and one value more than the best parameters."
      ],
      "execution_count": null,
      "outputs": [
        {
          "output_type": "stream",
          "text": [
            "Fitting 5 folds for each of 25 candidates, totalling 125 fits\n"
          ],
          "name": "stdout"
        },
        {
          "output_type": "stream",
          "text": [
            "[Parallel(n_jobs=-1)]: Using backend LokyBackend with 2 concurrent workers.\n",
            "[Parallel(n_jobs=-1)]: Done  28 tasks      | elapsed:    3.7s\n",
            "[Parallel(n_jobs=-1)]: Done 125 out of 125 | elapsed:   19.8s finished\n",
            "/usr/local/lib/python3.7/dist-packages/sklearn/model_selection/_search.py:823: FutureWarning: The parameter 'iid' is deprecated in 0.22 and will be removed in 0.24.\n",
            "  \"removed in 0.24.\", FutureWarning\n"
          ],
          "name": "stderr"
        },
        {
          "output_type": "execute_result",
          "data": {
            "text/plain": [
              "({'mean_fit_time': array([0.23892779, 0.23305435, 0.23716741, 0.23501716, 0.23917851,\n",
              "         0.27415962, 0.27053032, 0.27375035, 0.27182832, 0.27656903,\n",
              "         0.31245561, 0.3029417 , 0.29889822, 0.29705329, 0.29721732,\n",
              "         0.33940721, 0.34034457, 0.33478379, 0.32643023, 0.32728896,\n",
              "         0.36178384, 0.35821042, 0.3516541 , 0.35588131, 0.33261509]),\n",
              "  'mean_score_time': array([0.00978689, 0.00933261, 0.00730977, 0.00789351, 0.00736823,\n",
              "         0.00804515, 0.00795684, 0.00796518, 0.00798306, 0.00808835,\n",
              "         0.00973673, 0.01025505, 0.00910001, 0.00990644, 0.0097743 ,\n",
              "         0.00905733, 0.0089623 , 0.00894923, 0.00924635, 0.00891356,\n",
              "         0.00948067, 0.00930629, 0.00916638, 0.00970221, 0.0085587 ]),\n",
              "  'mean_test_score': array([0.76648702, 0.76754275, 0.76839371, 0.76802092, 0.76850178,\n",
              "         0.76483272, 0.76532183, 0.76627856, 0.76627651, 0.76652117,\n",
              "         0.76238647, 0.7635445 , 0.76374963, 0.76462227, 0.76468243,\n",
              "         0.76077788, 0.76246613, 0.76213553, 0.76482463, 0.76487391,\n",
              "         0.7594443 , 0.76064082, 0.7618403 , 0.76287021, 0.76343259]),\n",
              "  'param_max_depth': masked_array(data=[5, 5, 5, 5, 5, 6, 6, 6, 6, 6, 7, 7, 7, 7, 7, 8, 8, 8,\n",
              "                     8, 8, 9, 9, 9, 9, 9],\n",
              "               mask=[False, False, False, False, False, False, False, False,\n",
              "                     False, False, False, False, False, False, False, False,\n",
              "                     False, False, False, False, False, False, False, False,\n",
              "                     False],\n",
              "         fill_value='?',\n",
              "              dtype=object),\n",
              "  'param_min_child_weight': masked_array(data=[5, 6, 7, 8, 9, 5, 6, 7, 8, 9, 5, 6, 7, 8, 9, 5, 6, 7,\n",
              "                     8, 9, 5, 6, 7, 8, 9],\n",
              "               mask=[False, False, False, False, False, False, False, False,\n",
              "                     False, False, False, False, False, False, False, False,\n",
              "                     False, False, False, False, False, False, False, False,\n",
              "                     False],\n",
              "         fill_value='?',\n",
              "              dtype=object),\n",
              "  'params': [{'max_depth': 5, 'min_child_weight': 5},\n",
              "   {'max_depth': 5, 'min_child_weight': 6},\n",
              "   {'max_depth': 5, 'min_child_weight': 7},\n",
              "   {'max_depth': 5, 'min_child_weight': 8},\n",
              "   {'max_depth': 5, 'min_child_weight': 9},\n",
              "   {'max_depth': 6, 'min_child_weight': 5},\n",
              "   {'max_depth': 6, 'min_child_weight': 6},\n",
              "   {'max_depth': 6, 'min_child_weight': 7},\n",
              "   {'max_depth': 6, 'min_child_weight': 8},\n",
              "   {'max_depth': 6, 'min_child_weight': 9},\n",
              "   {'max_depth': 7, 'min_child_weight': 5},\n",
              "   {'max_depth': 7, 'min_child_weight': 6},\n",
              "   {'max_depth': 7, 'min_child_weight': 7},\n",
              "   {'max_depth': 7, 'min_child_weight': 8},\n",
              "   {'max_depth': 7, 'min_child_weight': 9},\n",
              "   {'max_depth': 8, 'min_child_weight': 5},\n",
              "   {'max_depth': 8, 'min_child_weight': 6},\n",
              "   {'max_depth': 8, 'min_child_weight': 7},\n",
              "   {'max_depth': 8, 'min_child_weight': 8},\n",
              "   {'max_depth': 8, 'min_child_weight': 9},\n",
              "   {'max_depth': 9, 'min_child_weight': 5},\n",
              "   {'max_depth': 9, 'min_child_weight': 6},\n",
              "   {'max_depth': 9, 'min_child_weight': 7},\n",
              "   {'max_depth': 9, 'min_child_weight': 8},\n",
              "   {'max_depth': 9, 'min_child_weight': 9}],\n",
              "  'rank_test_score': array([ 6,  4,  2,  3,  1, 11,  9,  7,  8,  5, 20, 16, 15, 14, 13, 23, 19,\n",
              "         21, 12, 10, 25, 24, 22, 18, 17], dtype=int32),\n",
              "  'split0_test_score': array([0.75970655, 0.760422  , 0.76349364, 0.76246842, 0.76365751,\n",
              "         0.75922492, 0.75998833, 0.76181692, 0.76219463, 0.76259033,\n",
              "         0.75608133, 0.75916896, 0.75906304, 0.76128333, 0.76070977,\n",
              "         0.7569047 , 0.75810977, 0.75787795, 0.7601602 , 0.7608137 ,\n",
              "         0.75550377, 0.7569027 , 0.75686073, 0.75947872, 0.75990839]),\n",
              "  'split1_test_score': array([0.76958496, 0.77117374, 0.77107382, 0.77219296, 0.77339603,\n",
              "         0.76864968, 0.77106182, 0.77147551, 0.7709659 , 0.77331609,\n",
              "         0.76730271, 0.76746659, 0.76876159, 0.7701845 , 0.77183323,\n",
              "         0.76390332, 0.76811209, 0.76532223, 0.76975883, 0.77195114,\n",
              "         0.76282215, 0.76415113, 0.76625152, 0.76649533, 0.76943907]),\n",
              "  'split2_test_score': array([0.75759443, 0.75831239, 0.75829245, 0.75768019, 0.75712576,\n",
              "         0.7566212 , 0.75670296, 0.75606478, 0.75572175, 0.75611065,\n",
              "         0.75497786, 0.7551055 , 0.75376132, 0.75349009, 0.75506162,\n",
              "         0.75189661, 0.75350006, 0.75359379, 0.7547904 , 0.75500977,\n",
              "         0.7516214 , 0.75306928, 0.75402457, 0.75451318, 0.75311715]),\n",
              "  'split3_test_score': array([0.77167444, 0.7736608 , 0.77353317, 0.77322404, 0.7737326 ,\n",
              "         0.76823222, 0.7680627 , 0.76983567, 0.77031431, 0.76928124,\n",
              "         0.76417574, 0.76722907, 0.7677815 , 0.76876072, 0.76658091,\n",
              "         0.76314666, 0.76638945, 0.76748833, 0.7688385 , 0.76808663,\n",
              "         0.76338997, 0.76400223, 0.76632763, 0.76744246, 0.76618005]),\n",
              "  'split4_test_score': array([0.7738747 , 0.77414482, 0.77557546, 0.77453899, 0.77459702,\n",
              "         0.7714356 , 0.77079332, 0.77219995, 0.77218594, 0.77130755,\n",
              "         0.76939469, 0.7687524 , 0.76938068, 0.76939269, 0.76922661,\n",
              "         0.76803808, 0.76621927, 0.76639535, 0.77057522, 0.76850829,\n",
              "         0.76388422, 0.76507876, 0.76573705, 0.76642136, 0.7685183 ]),\n",
              "  'std_fit_time': array([0.00886306, 0.00404634, 0.01278157, 0.00861123, 0.00589747,\n",
              "         0.00733883, 0.00460823, 0.00806635, 0.00633171, 0.00674191,\n",
              "         0.01094976, 0.00723422, 0.00397857, 0.0039308 , 0.0043901 ,\n",
              "         0.00836157, 0.01168598, 0.0067107 , 0.00266067, 0.00697202,\n",
              "         0.00458231, 0.01004951, 0.00276797, 0.01078581, 0.02524952]),\n",
              "  'std_score_time': array([2.19745156e-03, 2.55547965e-03, 3.28461363e-04, 1.40678782e-03,\n",
              "         6.82124846e-05, 2.26648953e-04, 1.20719179e-04, 5.56227224e-05,\n",
              "         9.11982199e-05, 2.91933985e-04, 2.07472289e-03, 1.58279759e-03,\n",
              "         8.61835134e-04, 1.24770250e-03, 1.35215546e-03, 2.20780517e-04,\n",
              "         3.08538330e-05, 1.15463477e-04, 7.71910039e-04, 1.71569521e-04,\n",
              "         1.38421926e-04, 1.08141117e-04, 8.27232901e-05, 1.24458848e-03,\n",
              "         9.36923297e-04]),\n",
              "  'std_test_score': array([0.00657476, 0.0067839 , 0.00649955, 0.0067041 , 0.00694763,\n",
              "         0.0058069 , 0.00588435, 0.00630796, 0.00634476, 0.00633291,\n",
              "         0.00585027, 0.0054119 , 0.00624203, 0.0064171 , 0.00606184,\n",
              "         0.00569155, 0.00566963, 0.00544136, 0.0062605 , 0.00612216,\n",
              "         0.00496823, 0.00478787, 0.00530399, 0.00505964, 0.00613709])},\n",
              " {'max_depth': 5, 'min_child_weight': 9},\n",
              " 0.7685017849189993)"
            ]
          },
          "metadata": {
            "tags": []
          },
          "execution_count": 249
        }
      ]
    },
    {
      "cell_type": "code",
      "metadata": {
        "colab": {
          "base_uri": "https://localhost:8080/"
        },
        "id": "66WnQLHc2u06",
        "outputId": "ea06dc5b-da64-49f3-92d1-92b136c255e3"
      },
      "source": [
        "param_test2 = {\n",
        " 'max_depth':[6,7,8,9],\n",
        " 'min_child_weight':[2,3,4,5]\n",
        "}\n",
        "gsearch2 = GridSearchCV(estimator=XgbClass(n_estimators=48),param_grid =param_test2,scoring='roc_auc',n_jobs=-1,iid=False, cv=5)\n",
        "gsearch2.fit(train_data[predictors],train_data[target])\n",
        "gsearch2.cv_results_, gsearch2.best_params_, gsearch2.best_score_"
      ],
      "execution_count": null,
      "outputs": [
        {
          "output_type": "stream",
          "text": [
            "/usr/local/lib/python3.7/dist-packages/sklearn/model_selection/_search.py:823: FutureWarning: The parameter 'iid' is deprecated in 0.22 and will be removed in 0.24.\n",
            "  \"removed in 0.24.\", FutureWarning\n"
          ],
          "name": "stderr"
        },
        {
          "output_type": "execute_result",
          "data": {
            "text/plain": [
              "({'mean_fit_time': array([0.27173223, 0.2756772 , 0.27203403, 0.27192326, 0.31115465,\n",
              "         0.30887222, 0.30503392, 0.30526357, 0.34104123, 0.33543363,\n",
              "         0.33811202, 0.33804584, 0.37273226, 0.36697321, 0.36628623,\n",
              "         0.35759916]),\n",
              "  'mean_score_time': array([0.0096879 , 0.00805669, 0.00807319, 0.00796576, 0.00868878,\n",
              "         0.00862041, 0.00850329, 0.00860085, 0.00913639, 0.01038523,\n",
              "         0.00912962, 0.00890937, 0.00992212, 0.00938563, 0.00963726,\n",
              "         0.00988364]),\n",
              "  'mean_test_score': array([0.76262908, 0.7623408 , 0.76429152, 0.76483272, 0.75894043,\n",
              "         0.75990358, 0.7621566 , 0.76238647, 0.75596033, 0.7582091 ,\n",
              "         0.75931218, 0.76077788, 0.75134514, 0.75491434, 0.75850843,\n",
              "         0.7594443 ]),\n",
              "  'param_max_depth': masked_array(data=[6, 6, 6, 6, 7, 7, 7, 7, 8, 8, 8, 8, 9, 9, 9, 9],\n",
              "               mask=[False, False, False, False, False, False, False, False,\n",
              "                     False, False, False, False, False, False, False, False],\n",
              "         fill_value='?',\n",
              "              dtype=object),\n",
              "  'param_min_child_weight': masked_array(data=[2, 3, 4, 5, 2, 3, 4, 5, 2, 3, 4, 5, 2, 3, 4, 5],\n",
              "               mask=[False, False, False, False, False, False, False, False,\n",
              "                     False, False, False, False, False, False, False, False],\n",
              "         fill_value='?',\n",
              "              dtype=object),\n",
              "  'params': [{'max_depth': 6, 'min_child_weight': 2},\n",
              "   {'max_depth': 6, 'min_child_weight': 3},\n",
              "   {'max_depth': 6, 'min_child_weight': 4},\n",
              "   {'max_depth': 6, 'min_child_weight': 5},\n",
              "   {'max_depth': 7, 'min_child_weight': 2},\n",
              "   {'max_depth': 7, 'min_child_weight': 3},\n",
              "   {'max_depth': 7, 'min_child_weight': 4},\n",
              "   {'max_depth': 7, 'min_child_weight': 5},\n",
              "   {'max_depth': 8, 'min_child_weight': 2},\n",
              "   {'max_depth': 8, 'min_child_weight': 3},\n",
              "   {'max_depth': 8, 'min_child_weight': 4},\n",
              "   {'max_depth': 8, 'min_child_weight': 5},\n",
              "   {'max_depth': 9, 'min_child_weight': 2},\n",
              "   {'max_depth': 9, 'min_child_weight': 3},\n",
              "   {'max_depth': 9, 'min_child_weight': 4},\n",
              "   {'max_depth': 9, 'min_child_weight': 5}],\n",
              "  'rank_test_score': array([ 3,  5,  2,  1, 11,  8,  6,  4, 14, 13, 10,  7, 16, 15, 12,  9],\n",
              "        dtype=int32),\n",
              "  'split0_test_score': array([0.75548179, 0.75772806, 0.75903306, 0.75922492, 0.75254405,\n",
              "         0.75239016, 0.75961861, 0.75608133, 0.74979216, 0.75456449,\n",
              "         0.75673683, 0.7569047 , 0.74436433, 0.74970023, 0.75415681,\n",
              "         0.75550377]),\n",
              "  'split1_test_score': array([0.76675313, 0.76456282, 0.76642938, 0.76864968, 0.76534422,\n",
              "         0.76266827, 0.76579187, 0.76730271, 0.76379141, 0.7627542 ,\n",
              "         0.75994037, 0.76390332, 0.75434866, 0.75743029, 0.76156911,\n",
              "         0.76282215]),\n",
              "  'split2_test_score': array([0.75705197, 0.75608073, 0.75727135, 0.7566212 , 0.75322684,\n",
              "         0.75493798, 0.75489809, 0.75497786, 0.74735551, 0.75069004,\n",
              "         0.75171912, 0.75189661, 0.74925412, 0.74872961, 0.75264848,\n",
              "         0.7516214 ]),\n",
              "  'split3_test_score': array([0.7641917 , 0.76414981, 0.7674983 , 0.76823222, 0.75714571,\n",
              "         0.7633082 , 0.76131985, 0.76417574, 0.75483427, 0.760211  ,\n",
              "         0.76096087, 0.76314666, 0.75162538, 0.75571976, 0.76066372,\n",
              "         0.76338997]),\n",
              "  'split4_test_score': array([0.76966681, 0.76918259, 0.77122551, 0.7714356 , 0.76644137,\n",
              "         0.76621326, 0.76915458, 0.76939469, 0.76402828, 0.76282575,\n",
              "         0.76720371, 0.76803808, 0.7571332 , 0.76299182, 0.76350405,\n",
              "         0.76388422]),\n",
              "  'std_fit_time': array([0.00514044, 0.01073644, 0.00509453, 0.00395621, 0.00852717,\n",
              "         0.0060144 , 0.00316798, 0.00476255, 0.00657986, 0.00286246,\n",
              "         0.00408411, 0.00645611, 0.00323238, 0.00344655, 0.00706641,\n",
              "         0.00240753]),\n",
              "  'std_score_time': array([2.42151345e-03, 1.11886199e-04, 2.30224002e-04, 9.55305374e-05,\n",
              "         2.58037669e-04, 1.66515646e-04, 2.20645883e-04, 1.91924770e-04,\n",
              "         1.57531323e-04, 2.62954591e-03, 4.18152748e-05, 4.96965442e-05,\n",
              "         7.03027538e-04, 6.46800033e-05, 4.13592004e-04, 1.82082064e-03]),\n",
              "  'std_test_score': array([0.00549849, 0.00480595, 0.00528901, 0.0058069 , 0.00590004,\n",
              "         0.00529444, 0.00493993, 0.00585027, 0.00692495, 0.00481245,\n",
              "         0.00509266, 0.00569155, 0.00437505, 0.00524714, 0.00429523,\n",
              "         0.00496823])},\n",
              " {'max_depth': 6, 'min_child_weight': 5},\n",
              " 0.764832722352206)"
            ]
          },
          "metadata": {
            "tags": []
          },
          "execution_count": 250
        }
      ]
    },
    {
      "cell_type": "code",
      "metadata": {
        "colab": {
          "base_uri": "https://localhost:8080/"
        },
        "id": "9jxe9q3C2u06",
        "outputId": "5fadfc1d-b862-4835-fb2b-0818baa63fc6"
      },
      "source": [
        "xgb1 = XgbClass(max_depth=8,min_child_weight=4)\n",
        "mymodel=modelfit(xgb1, train_data, predictors)"
      ],
      "execution_count": null,
      "outputs": [
        {
          "output_type": "stream",
          "text": [
            "{'base_score': 0.5, 'booster': 'gbtree', 'colsample_bylevel': 1, 'colsample_bynode': 1, 'colsample_bytree': 0.8, 'gamma': 0, 'learning_rate': 0.1, 'max_delta_step': 0, 'max_depth': 8, 'min_child_weight': 4, 'missing': None, 'n_estimators': 35, 'nthread': 1, 'objective': 'binary:logistic', 'reg_alpha': 0, 'reg_lambda': 1, 'scale_pos_weight': 1, 'seed': 0, 'subsample': 0.8, 'verbosity': 1}\n"
          ],
          "name": "stdout"
        }
      ]
    },
    {
      "cell_type": "code",
      "metadata": {
        "colab": {
          "base_uri": "https://localhost:8080/"
        },
        "id": "eqDfxTv22u06",
        "outputId": "f9932d9c-873a-4495-ba03-8e24fb0bd9f5"
      },
      "source": [
        "get_accuracy(mymodel,predictors)"
      ],
      "execution_count": null,
      "outputs": [
        {
          "output_type": "stream",
          "text": [
            "\n",
            "Model Report\n",
            "Accuracy : 77.43\n",
            "AUC Score (Train): 78.008163\n"
          ],
          "name": "stdout"
        }
      ]
    },
    {
      "cell_type": "code",
      "metadata": {
        "id": "sXbDpuY_2u07"
      },
      "source": [
        "# To tune Gamma"
      ],
      "execution_count": null,
      "outputs": []
    },
    {
      "cell_type": "code",
      "metadata": {
        "colab": {
          "base_uri": "https://localhost:8080/"
        },
        "id": "tBcbhMNg2u07",
        "outputId": "0799a830-3b3b-4c46-898d-85d5c477f42d"
      },
      "source": [
        "param_test3 = {\n",
        " 'gamma':[i/10.0 for i in range(0,8)]\n",
        "}\n",
        "gsearch3=GridSearchCV(estimator=XgbClass(n_estimators=48,max_depth=7,min_child_weight=5),\n",
        "                      param_grid =param_test3,scoring='roc_auc',n_jobs=-1,iid=False, cv=5)\n",
        "gsearch3.fit(train_data[predictors],train_data[target])\n",
        "gsearch3.cv_results_, gsearch3.best_params_, gsearch3.best_score_"
      ],
      "execution_count": null,
      "outputs": [
        {
          "output_type": "stream",
          "text": [
            "/usr/local/lib/python3.7/dist-packages/sklearn/model_selection/_search.py:823: FutureWarning: The parameter 'iid' is deprecated in 0.22 and will be removed in 0.24.\n",
            "  \"removed in 0.24.\", FutureWarning\n"
          ],
          "name": "stderr"
        },
        {
          "output_type": "execute_result",
          "data": {
            "text/plain": [
              "({'mean_fit_time': array([0.29987512, 0.31065488, 0.30752363, 0.30893273, 0.31821184,\n",
              "         0.30704012, 0.30423899, 0.30404973]),\n",
              "  'mean_score_time': array([0.00912519, 0.00935359, 0.00984173, 0.00897021, 0.00853853,\n",
              "         0.00911303, 0.00991607, 0.00804505]),\n",
              "  'mean_test_score': array([0.76238647, 0.76224618, 0.76192693, 0.76286401, 0.76284821,\n",
              "         0.76297925, 0.76322808, 0.76341607]),\n",
              "  'param_gamma': masked_array(data=[0.0, 0.1, 0.2, 0.3, 0.4, 0.5, 0.6, 0.7],\n",
              "               mask=[False, False, False, False, False, False, False, False],\n",
              "         fill_value='?',\n",
              "              dtype=object),\n",
              "  'params': [{'gamma': 0.0},\n",
              "   {'gamma': 0.1},\n",
              "   {'gamma': 0.2},\n",
              "   {'gamma': 0.3},\n",
              "   {'gamma': 0.4},\n",
              "   {'gamma': 0.5},\n",
              "   {'gamma': 0.6},\n",
              "   {'gamma': 0.7}],\n",
              "  'rank_test_score': array([6, 7, 8, 4, 5, 3, 2, 1], dtype=int32),\n",
              "  'split0_test_score': array([0.75608133, 0.75853145, 0.7576781 , 0.75929486, 0.7608117 ,\n",
              "         0.75814175, 0.75908302, 0.75752422]),\n",
              "  'split1_test_score': array([0.76730271, 0.76723077, 0.76585183, 0.76650532, 0.76544614,\n",
              "         0.76747658, 0.76649733, 0.76841386]),\n",
              "  'split2_test_score': array([0.75497786, 0.75389494, 0.75467672, 0.75505564, 0.75487615,\n",
              "         0.75595309, 0.75645168, 0.75692633]),\n",
              "  'split3_test_score': array([0.76417574, 0.76410793, 0.76219138, 0.76362132, 0.76392246,\n",
              "         0.76340792, 0.76427147, 0.76320051]),\n",
              "  'split4_test_score': array([0.76939469, 0.76746582, 0.76923662, 0.76984289, 0.76918459,\n",
              "         0.76991692, 0.76983689, 0.77101541]),\n",
              "  'std_fit_time': array([0.00446492, 0.01529307, 0.00492638, 0.00557442, 0.01577823,\n",
              "         0.00497423, 0.00961719, 0.00723815]),\n",
              "  'std_score_time': array([0.00086386, 0.00069826, 0.00258583, 0.00057667, 0.0001014 ,\n",
              "         0.0007272 , 0.00297015, 0.00090795]),\n",
              "  'std_test_score': array([0.00585027, 0.00527446, 0.00528251, 0.00522009, 0.00481153,\n",
              "         0.00531619, 0.00486938, 0.00564987])},\n",
              " {'gamma': 0.7},\n",
              " 0.7634160668471637)"
            ]
          },
          "metadata": {
            "tags": []
          },
          "execution_count": 254
        }
      ]
    },
    {
      "cell_type": "code",
      "metadata": {
        "colab": {
          "base_uri": "https://localhost:8080/"
        },
        "id": "5US_x5NH2u07",
        "outputId": "10b039d1-6719-4f83-d71a-2ecff52020b9"
      },
      "source": [
        "xgb1 = XgbClass(max_depth=7,min_child_weight=5,gamma=0)\n",
        "mymodel=modelfit(xgb1, train_data, predictors)"
      ],
      "execution_count": null,
      "outputs": [
        {
          "output_type": "stream",
          "text": [
            "{'base_score': 0.5, 'booster': 'gbtree', 'colsample_bylevel': 1, 'colsample_bynode': 1, 'colsample_bytree': 0.8, 'gamma': 0, 'learning_rate': 0.1, 'max_delta_step': 0, 'max_depth': 7, 'min_child_weight': 5, 'missing': None, 'n_estimators': 35, 'nthread': 1, 'objective': 'binary:logistic', 'reg_alpha': 0, 'reg_lambda': 1, 'scale_pos_weight': 1, 'seed': 0, 'subsample': 0.8, 'verbosity': 1}\n"
          ],
          "name": "stdout"
        }
      ]
    },
    {
      "cell_type": "code",
      "metadata": {
        "colab": {
          "base_uri": "https://localhost:8080/"
        },
        "id": "52s6vmsg2u07",
        "outputId": "8d1e03d3-d8ce-482f-db74-c02db3165e8a"
      },
      "source": [
        "get_accuracy(mymodel,predictors)"
      ],
      "execution_count": null,
      "outputs": [
        {
          "output_type": "stream",
          "text": [
            "\n",
            "Model Report\n",
            "Accuracy : 78.35\n",
            "AUC Score (Train): 78.235698\n"
          ],
          "name": "stdout"
        }
      ]
    },
    {
      "cell_type": "code",
      "metadata": {
        "id": "wHi6WSUa2u08"
      },
      "source": [
        ""
      ],
      "execution_count": null,
      "outputs": []
    },
    {
      "cell_type": "code",
      "metadata": {
        "id": "QulPq-Bb2u08"
      },
      "source": [
        "# Saving the model"
      ],
      "execution_count": null,
      "outputs": []
    },
    {
      "cell_type": "code",
      "metadata": {
        "id": "kq5RU3DK2u08"
      },
      "source": [
        "import joblib"
      ],
      "execution_count": null,
      "outputs": []
    },
    {
      "cell_type": "code",
      "metadata": {
        "colab": {
          "base_uri": "https://localhost:8080/"
        },
        "id": "aDkT4psa2u09",
        "outputId": "4eff34db-43a4-462f-8265-406d864abff0"
      },
      "source": [
        "filename = \"test_model\"\n",
        "joblib.dump(mymodel,filename)"
      ],
      "execution_count": null,
      "outputs": [
        {
          "output_type": "execute_result",
          "data": {
            "text/plain": [
              "['test_model']"
            ]
          },
          "metadata": {
            "tags": []
          },
          "execution_count": 303
        }
      ]
    },
    {
      "cell_type": "code",
      "metadata": {
        "colab": {
          "base_uri": "https://localhost:8080/"
        },
        "id": "i1-ClSVN2u09",
        "outputId": "9544bcd2-9130-44e8-c1d3-b2804be506dc"
      },
      "source": [
        "mymodel = joblib.load(filename)\n",
        "mymodel.predict(X_test)"
      ],
      "execution_count": null,
      "outputs": [
        {
          "output_type": "execute_result",
          "data": {
            "text/plain": [
              "array([0, 0, 0, ..., 0, 0, 1])"
            ]
          },
          "metadata": {
            "tags": []
          },
          "execution_count": 305
        }
      ]
    },
    {
      "cell_type": "code",
      "metadata": {
        "colab": {
          "base_uri": "https://localhost:8080/"
        },
        "id": "RMJf_Tev2u09",
        "outputId": "b0164b5c-aaa3-4b36-efa5-42422fe38d74"
      },
      "source": [
        "pred_result = mymodel.predict(X_test)\n",
        "print(pred_result)"
      ],
      "execution_count": null,
      "outputs": [
        {
          "output_type": "stream",
          "text": [
            "[0 0 0 ... 0 0 1]\n"
          ],
          "name": "stdout"
        }
      ]
    },
    {
      "cell_type": "code",
      "metadata": {
        "id": "5mEyO4EmEpDA"
      },
      "source": [
        "\n"
      ],
      "execution_count": null,
      "outputs": []
    },
    {
      "cell_type": "code",
      "metadata": {
        "id": "VLd7WcAL2u09"
      },
      "source": [
        ""
      ],
      "execution_count": null,
      "outputs": []
    },
    {
      "cell_type": "code",
      "metadata": {
        "id": "65dI0K3iFmh0"
      },
      "source": [
        ""
      ],
      "execution_count": null,
      "outputs": []
    },
    {
      "cell_type": "code",
      "metadata": {
        "id": "2pJuN7VtSoFs"
      },
      "source": [
        ""
      ],
      "execution_count": null,
      "outputs": []
    }
  ]
}